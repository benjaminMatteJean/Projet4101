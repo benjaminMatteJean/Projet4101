{
 "cells": [
  {
   "cell_type": "code",
   "execution_count": 237,
   "metadata": {},
   "outputs": [],
   "source": [
    "import numpy\n",
    "import pickle\n",
    "import time\n",
    "\n",
    "from sklearn.preprocessing import OneHotEncoder\n",
    "from sklearn.model_selection import train_test_split\n",
    "from sklearn.svm import LinearSVC\n",
    "\n",
    "import torch\n",
    "import torch.nn as nn\n",
    "\n",
    "import pandas as pd\n",
    "\n",
    "from torch.optim import SGD, Adam\n",
    "from torch.utils.data import Dataset, DataLoader\n",
    "\n",
    "import matplotlib\n",
    "matplotlib.rcParams['figure.figsize'] = (9.0, 7.0)\n",
    "from matplotlib import pyplot"
   ]
  },
  {
   "cell_type": "code",
   "execution_count": 2,
   "metadata": {},
   "outputs": [],
   "source": [
    "# Load data from numpy file\n",
    "# debinarizedData = numpy.load('debinarizedData.npy')\n",
    "# numpy.shape(debinarizedData)"
   ]
  },
  {
   "cell_type": "code",
   "execution_count": 3,
   "metadata": {},
   "outputs": [],
   "source": [
    "# Load data from pickle file\n",
    "\n",
    "# infile = open('../Projet/trainDatasetPerdiem-20191028.pkl', 'rb')\n",
    "# data, labels = pickle.load(infile)\n",
    "\n",
    "# infile.close()\n",
    "\n",
    "# data_numpy = data.to_numpy()\n",
    "# print(labels)\n",
    "# data.describe() # give column stats\n",
    "\n",
    "# To one-hot-encode\n",
    "# - Spécialité de médecins        | 33\n",
    "# - Université de graduation      | 14\n",
    "# - Plage horaire de facturation  | 3\n",
    "# - Agence de représentation      | 845\n",
    "# - Établissements                | 241"
   ]
  },
  {
   "cell_type": "code",
   "execution_count": 4,
   "metadata": {},
   "outputs": [],
   "source": [
    "# Separate labeled and unlabeled data\n",
    "\n",
    "# unlabeled = data_numpy[data_numpy[:, 1182] == -1][:, :-1]\n",
    "# numpy.random.shuffle(unlabeled)\n",
    "# numpy.save('unlabeled.npy', unlabeled)\n",
    "\n",
    "# labeled = data_numpy[data_numpy[:, 1182] != -1]\n",
    "# numpy.random.shuffle(labeled)\n",
    "# numpy.save('labeled.npy', labeled)"
   ]
  },
  {
   "cell_type": "code",
   "execution_count": 204,
   "metadata": {},
   "outputs": [
    {
     "data": {
      "image/png": "[encoded data removed]",
      "text/plain": [
       "<Figure size 432x288 with 1 Axes>"
      ]
     },
     "metadata": {
      "needs_background": "light"
     },
     "output_type": "display_data"
    }
   ],
   "source": [
    "# Make smaller sample for testing\n",
    "\n",
    "# unlabeled = debinarizedData = numpy.load('unlabeled.npy')\n",
    "# smaller_size = 5000\n",
    "# smaller_unlabeled = unlabeled[:smaller_size]\n",
    "# numpy.save('smaller_unlabeled.npy', smaller_unlabeled)\n",
    "\n",
    "smaller_unlabeled = numpy.load('smaller_unlabeled.npy')\n",
    "labeled = numpy.load('labeled.npy')\n",
    "\n",
    "X, y = labeled[:, :-1], labeled[:, -1]\n",
    "X_train, X_test, y_train, y_test = train_test_split(X, y, test_size=0.5, random_state=42)\n",
    "\n",
    "# Convert Data to pytorch tensors\n",
    "X_train_tensor = torch.from_numpy(X_train).float().to(device)\n",
    "y_train_tensor = torch.from_numpy(y_train).float().to(device)\n",
    "X_test_tensor = torch.from_numpy(X_test).float().to(device)\n",
    "y_test_tensor = torch.from_numpy(y_test).float().to(device)\n",
    "\n",
    "labels = ['Non-conforme', 'Conforme']\n",
    "\n",
    "numberOfClass0 = len(y_test[y_test == 0])\n",
    "numberOfClass1 = len(y_test[y_test == 1])\n",
    "ratio = numberOfClass0/numberOfClass1\n",
    "\n",
    "x = numpy.arange(len(labels))\n",
    "width = 0.35\n",
    "\n",
    "fig, subfig = pyplot.subplots()\n",
    "subfig.bar(x, [numberOfClass0, numberOfClass1], width)\n",
    "\n",
    "subfig.set_ylabel('Nombre d\\'instance')\n",
    "subfig.set_title(f'Ratio Non-Conforme/Conforme: {ratio}')\n",
    "subfig.set_xticks(x)\n",
    "subfig.set_xticklabels(labels)\n",
    "\n",
    "pyplot.show()"
   ]
  },
  {
   "cell_type": "code",
   "execution_count": 205,
   "metadata": {},
   "outputs": [],
   "source": [
    "# Make dataset\n",
    "class RAMQDatasetForAE(Dataset):\n",
    "    \n",
    "    def __init__(self, data):\n",
    "        super().__init__()\n",
    "        self.data = []\n",
    "        for elem in data:\n",
    "            if isinstance(elem, numpy.ndarray):\n",
    "                elem = elem.tolist()\n",
    "            # Convert to pytorch tensor\n",
    "            elem = torch.Tensor(elem)\n",
    "            # AE targets are same as inputs -> [x, x']\n",
    "            self.data += [(elem, elem)]\n",
    "\n",
    "    def __getitem__(self, index):\n",
    "        return self.data[index]\n",
    "    \n",
    "    def __len__(self):\n",
    "        return len(self.data)\n",
    "    "
   ]
  },
  {
   "cell_type": "code",
   "execution_count": 250,
   "metadata": {},
   "outputs": [],
   "source": [
    "# Clustering model\n",
    "# Ref tied weights:\n",
    "# https://discuss.pytorch.org/t/how-to-create-and-train-a-tied-autoencoder/2585/13\n",
    "# https://gist.github.com/InnovArul/500e0c57e88300651f8005f9bd0d12bc\n",
    "\n",
    "class Autoencoder(nn.Module):\n",
    "    \"\"\"\n",
    "    Fully connected neural network in the shape of an autoencoder\n",
    "    \n",
    "    dimensions: int\n",
    "        size of the input dimensions\n",
    "    k_features: int\n",
    "        size of reduced dimensions\n",
    "    nb_layers: int\n",
    "        number of layers to reduce dimensions (encoder)\n",
    "    activation: torch.nn Module\n",
    "        activation function of each layers\n",
    "    init: torch.nn init function\n",
    "        initialization method of layers weights\n",
    "    \"\"\"\n",
    "    def __init__(self, dimensions, \n",
    "                 k_features, \n",
    "                 nb_layers=3,\n",
    "                 activation=nn.ReLU(),\n",
    "                 init=None,\n",
    "                 batch_norm=False\n",
    "                ):\n",
    "        super(Autoencoder, self).__init__()\n",
    "        # Speed of reduction\n",
    "        reduction_ratio = (k_features/dimensions)**(1/(nb_layers))\n",
    "        \n",
    "        # Default to encoder-decoder\n",
    "        self.encode_only = False\n",
    "        layers = []\n",
    "        layer_lenght = dimensions\n",
    "        \n",
    "        # Calculate nb of layers and nb of neurons\n",
    "        # Builds a list (ex:[1000, 500, 250, ... until k_features])\n",
    "        # This list is half the network, aka encoder. Decoder will be\n",
    "        # built using the inverse list \n",
    "        while layer_lenght > k_features:\n",
    "            layers.append(layer_lenght)\n",
    "            layer_lenght = int(layer_lenght*reduction_ratio)\n",
    "        layers.append(k_features)\n",
    "        \n",
    "        # Build encoder layers\n",
    "        encoder_layers = []\n",
    "        for i, n_neurons in enumerate(layers[:-1]):\n",
    "            layer = nn.Linear(layers[i], layers[i+1])\n",
    "            if init:\n",
    "                init(layer.weight)\n",
    "            encoder_layers.append(layer)\n",
    "            if batch_norm:\n",
    "                encoder_layers.append(nn.BatchNorm1d(layers[i+1]))\n",
    "            encoder_layers.append(activation)\n",
    "            \n",
    "        # Build decoder layers\n",
    "        layers.reverse()\n",
    "        decoder_layers = []\n",
    "        for i, n_neurons in enumerate(layers[:-1]):\n",
    "            layer = nn.Linear(layers[i], layers[i+1])\n",
    "            if init:\n",
    "                init(layer.weight)\n",
    "            decoder_layers.append(layer)\n",
    "            if batch_norm:\n",
    "                decoder_layers.append(nn.BatchNorm1d(layers[i+1]))\n",
    "            decoder_layers.append(activation)\n",
    "                                \n",
    "        # Build pytorch sequential network\n",
    "        self.encoder = nn.Sequential(\n",
    "            *encoder_layers\n",
    "        )\n",
    "        self.decoder = nn.Sequential(\n",
    "            *decoder_layers\n",
    "        )\n",
    "        \n",
    "                \n",
    "    def set_encode_only(self, value):\n",
    "        self.encode_only = value\n",
    "        \n",
    "    def forward(self, x):\n",
    "        x = self.encoder(x)\n",
    "        if not self.encode_only:\n",
    "            x = self.decoder(x)\n",
    "        return x"
   ]
  },
  {
   "cell_type": "code",
   "execution_count": 251,
   "metadata": {},
   "outputs": [],
   "source": [
    "# Test Autoencoder class\n",
    "test_AE = Autoencoder(dimensions=1182,\n",
    "                    k_features=400,\n",
    "                    nb_layers=4,\n",
    "                    batch_norm=True\n",
    "                   )"
   ]
  },
  {
   "cell_type": "code",
   "execution_count": 254,
   "metadata": {
    "scrolled": true
   },
   "outputs": [],
   "source": [
    "# AE Training\n",
    "# Pretrain autoencoder to minimise reconstruction loss \n",
    "# and keep model for clustering\n",
    "def train(model, nb_epoch=1, verbose=True, plot_loss=False):\n",
    "    \"\"\"\n",
    "    model: torch.nn.Module\n",
    "        Pytorch neural network model to use\n",
    "    nb_epoch: int\n",
    "        number of training epochs\n",
    "    verbose: boolean\n",
    "        display training epoch performance\n",
    "    \"\"\"\n",
    "    # Setup cuda if available\n",
    "    device = \"cuda\" if torch.cuda.is_available() else \"cpu\"\n",
    "\n",
    "    # Training parameters \n",
    "    learning_rate = 0.01\n",
    "    momentum = 0.9\n",
    "    batch_size = 50     # SGD optimizer\n",
    "    weight_decay = 1e-5  # Adam optimizer\n",
    "\n",
    "    # Load data set and create dataloader\n",
    "    train_set = RAMQDatasetForAE(smaller_unlabeled)\n",
    "\n",
    "    train_loader = DataLoader(train_set, batch_size=batch_size)\n",
    "\n",
    "    # Load model and setup proper device\n",
    "    model.to(device)\n",
    "    # For training, encoder AND decoder must be active\n",
    "    model.set_encode_only(False)\n",
    "\n",
    "    # Reconstruction loss and optimzer\n",
    "    criterion = nn.MSELoss()\n",
    "    optimizer = SGD(model.parameters(), lr=learning_rate, momentum=momentum)\n",
    "    # optimizer = Adam(model.parameters(), weight_decay=weight_decay)\n",
    "\n",
    "    model.train()\n",
    "    losses = []\n",
    "    for i_epoch in range(nb_epoch):\n",
    "\n",
    "        start_time, train_losses = time.time(), []\n",
    "        for i_batch, batch in enumerate(train_loader):\n",
    "            # Read batch data\n",
    "            x, y = batch\n",
    "\n",
    "            # Reset gradients to zero\n",
    "            optimizer.zero_grad()\n",
    "\n",
    "            # Predictions and loss\n",
    "            x_pred = model(x)\n",
    "            loss = criterion(x_pred, y)\n",
    "\n",
    "            # Backpropagate and gradient descent\n",
    "            loss.backward()\n",
    "            optimizer.step()\n",
    "\n",
    "            train_losses.append(loss.item())\n",
    "\n",
    "        mean_loss = numpy.mean(train_losses)\n",
    "        losses.append(mean_loss)\n",
    "        if verbose:\n",
    "            print(' [-] epoch {:4}/{:}, train loss {:.6f} in {:.2f}s'.format(\n",
    "                i_epoch+1, nb_epoch, mean_loss, time.time()-start_time))\n",
    "    if plot_loss:\n",
    "        pyplot.plot(losses)\n",
    "        pyplot.title('Epoch Losses')\n",
    "        pyplot.xlabel('Epoch')\n",
    "        pyplot.ylabel('Loss')\n",
    "        pyplot.show()"
   ]
  },
  {
   "cell_type": "code",
   "execution_count": 262,
   "metadata": {},
   "outputs": [
    {
     "name": "stderr",
     "output_type": "stream",
     "text": [
      "c:\\users\\alext\\appdata\\local\\programs\\python\\python37\\lib\\site-packages\\sklearn\\svm\\_base.py:947: ConvergenceWarning: Liblinear failed to converge, increase the number of iterations.\n",
      "  \"the number of iterations.\", ConvergenceWarning)\n"
     ]
    },
    {
     "name": "stdout",
     "output_type": "stream",
     "text": [
      "Score on all dimensions: 0.841886269070735\n",
      " [-] epoch    1/1, train loss 0.030702 in 5.54s\n"
     ]
    },
    {
     "data": {
      "image/png": "[encoded data removed]",
      "text/plain": [
       "<Figure size 648x504 with 1 Axes>"
      ]
     },
     "metadata": {
      "needs_background": "light"
     },
     "output_type": "display_data"
    },
    {
     "name": "stdout",
     "output_type": "stream",
     "text": [
      "Score on 400 dimensions: 0.7545076282940361\n"
     ]
    }
   ],
   "source": [
    "# Linear SVM performance with all dimensions\n",
    "clf = LinearSVC()\n",
    "clf.fit(X_train, y_train)\n",
    "score = clf.score(X_test, y_test)\n",
    "print(\"Score on all dimensions:\", score)\n",
    "\n",
    "# Input_dimensions length\n",
    "input_d = numpy.shape(smaller_unlabeled)[1]\n",
    "k_features = 400\n",
    "nb_layers = 4\n",
    "\n",
    "model = Autoencoder(dimensions=input_d,\n",
    "                    k_features=k_features,\n",
    "                    nb_layers=nb_layers,\n",
    "                    activation=nn.LeakyReLU(),\n",
    "                    init=nn.init.xavier_uniform_,\n",
    "                    batch_norm=False\n",
    "                   )\n",
    "\n",
    "# train on unlabeled data\n",
    "train(model, nb_epoch=1, verbose=True, plot_loss=False)\n",
    "\n",
    "# Set model to encode only (reduce dimensions)\n",
    "model.set_encode_only(True)\n",
    "\n",
    "# Reduce dimensions on inputs\n",
    "X_train_reduced = model(X_train_tensor).detach().numpy()\n",
    "X_test_reduced = model(X_test_tensor).detach().numpy()\n",
    "\n",
    "# Train Linear SVM\n",
    "clf = LinearSVC()\n",
    "clf.fit(X_train_reduced, y_train)\n",
    "\n",
    "# Calculate validation performance\n",
    "score = clf.score(X_test_reduced, y_test)\n",
    "print(f\"Score on {k_features} dimensions:\", score)"
   ]
  },
  {
   "cell_type": "code",
   "execution_count": null,
   "metadata": {},
   "outputs": [],
   "source": []
  },
  {
   "cell_type": "code",
   "execution_count": 236,
   "metadata": {},
   "outputs": [
    {
     "name": "stdout",
     "output_type": "stream",
     "text": [
      "[ 100% ] 10 layers, 50 features, score: 54.79% | 358.9s \t\t\r"
     ]
    },
    {
     "data": {
      "image/png": "[encoded data removed]",
      "text/plain": [
       "<Figure size 432x288 with 1 Axes>"
      ]
     },
     "metadata": {
      "needs_background": "light"
     },
     "output_type": "display_data"
    }
   ],
   "source": [
    "# Test effect of number of k reduced dimensions\n",
    "# and network depth\n",
    "start_time = time.time()\n",
    "\n",
    "# Input_dimensions length\n",
    "input_d = numpy.shape(smaller_unlabeled)[1]\n",
    "\n",
    "K = [1000, 800, 600, 400, 300, 200, 100, 50]\n",
    "L = [1, 2, 3, 4, 5, 8, 10]\n",
    "\n",
    "step = 1/(len(K)*len(L))\n",
    "\n",
    "for i, l in enumerate(L):\n",
    "    scores = []\n",
    "    for j, k in enumerate(K):\n",
    "        model = Autoencoder(dimensions=input_d, \n",
    "                            k_features=k, \n",
    "                            nb_layers=l)\n",
    "\n",
    "        # train on unlabeled data\n",
    "        train(model, verbose=False)\n",
    "\n",
    "        # Set model to encode only (reduce dimensions)\n",
    "        model.set_encode_only(True)\n",
    "        \n",
    "        # Reduce dimensions on inputs\n",
    "        X_train_reduced = model(X_train_tensor).detach().numpy()\n",
    "        X_test_reduced = model(X_test_tensor).detach().numpy()\n",
    "        \n",
    "        # Train Linear SVM\n",
    "        clf = LinearSVC()\n",
    "        clf.fit(X_train_reduced, y_train)\n",
    "        \n",
    "        # Calculate validation performance\n",
    "        score = clf.score(X_test_reduced, y_test)\n",
    "        scores.append(score)\n",
    "        \n",
    "        # Display progress\n",
    "        progress = 100*((step*(i)*len(K))+(step*(j+1)))\n",
    "        print(f'[ {progress:.0f}% ] {l} layers, {k} features, score: {(100*score):.2f}% | {(time.time()-start_time):.1f}s \\t', end='\\r')\n",
    "    \n",
    "    pyplot.plot(K, scores, label=f'{l}')\n",
    "    \n",
    "pyplot.title(f'Performance of autoencoder architecture for \\n dimensionnality reduction (linear SVM classifier)')\n",
    "pyplot.ylabel('Test Score')\n",
    "pyplot.xlabel(f'Number of dimensions after reduction ({input_d} original)')\n",
    "pyplot.legend(title=\"Nb of layers\")\n",
    "pyplot.show()"
   ]
  },
  {
   "cell_type": "code",
   "execution_count": 217,
   "metadata": {},
   "outputs": [
    {
     "name": "stdout",
     "output_type": "stream",
     "text": [
      "[ 100% ] 10 layers, 50 features, score: 55.62% | 373.4s \t\t\r"
     ]
    },
    {
     "data": {
      "image/png": "[encoded data removed]",
      "text/plain": [
       "<Figure size 432x288 with 1 Axes>"
      ]
     },
     "metadata": {
      "needs_background": "light"
     },
     "output_type": "display_data"
    }
   ],
   "source": [
    "# Test effect of number of k reduced dimensions\n",
    "# and network depth\n",
    "start_time = time.time()\n",
    "\n",
    "# Input_dimensions length\n",
    "input_d = numpy.shape(smaller_unlabeled)[1]\n",
    "\n",
    "K = [1000, 800, 600, 400, 300, 200, 100, 50]\n",
    "L = [1, 2, 3, 4, 5, 8, 10]\n",
    "\n",
    "step = 1/(len(K)*len(L))\n",
    "\n",
    "for i, l in enumerate(L):\n",
    "    scores = []\n",
    "    for j, k in enumerate(K):\n",
    "        model = Autoencoder(dimensions=input_d, \n",
    "                            k_features=k, \n",
    "                            nb_layers=l,\n",
    "                            activation=nn.LeakyReLU(),\n",
    "                            init=nn.init.xavier_uniform_\n",
    "                           )\n",
    "\n",
    "        # train on unlabeled data\n",
    "        train(model, verbose=False)\n",
    "\n",
    "        # Set model to encode only (reduce dimensions)\n",
    "        model.set_encode_only(True)\n",
    "        \n",
    "        # Reduce dimensions on inputs\n",
    "        X_train_reduced = model(X_train_tensor).detach().numpy()\n",
    "        X_test_reduced = model(X_test_tensor).detach().numpy()\n",
    "        \n",
    "        # Train Linear SVM\n",
    "        clf = LinearSVC()\n",
    "        clf.fit(X_train_reduced, y_train)\n",
    "        \n",
    "        # Calculate validation performance\n",
    "        score = clf.score(X_test_reduced, y_test)\n",
    "        scores.append(score)\n",
    "        \n",
    "        # Display progress\n",
    "        progress = 100*((step*(i)*len(K))+(step*(j+1)))\n",
    "        print(f'[ {progress:.0f}% ] {l} layers, {k} features, score: {(100*score):.2f}% | {(time.time()-start_time):.1f}s \\t', end='\\r')\n",
    "    \n",
    "    pyplot.plot(K, scores, label=f'{l}')\n",
    "    \n",
    "pyplot.title(f'Performance of autoencoder architecture for \\n dimensionnality reduction (linear SVM classifier)')\n",
    "pyplot.ylabel('Test Score')\n",
    "pyplot.xlabel(f'Number of dimensions after reduction ({input_d} original)')\n",
    "pyplot.legend(title=\"Nb of layers\")\n",
    "pyplot.show()"
   ]
  },
  {
   "cell_type": "code",
   "execution_count": null,
   "metadata": {},
   "outputs": [],
   "source": [
    "# AE clustering optimisation\n",
    "# Must retrain the autoencoder from pretrained weights\n",
    "# now optimising weights to minimise clustering loss\n",
    "# AND reconstruction loss\n"
   ]
  },
  {
   "cell_type": "code",
   "execution_count": 8,
   "metadata": {},
   "outputs": [],
   "source": []
  },
  {
   "cell_type": "code",
   "execution_count": null,
   "metadata": {},
   "outputs": [],
   "source": []
  }
 ],
 "metadata": {
  "kernelspec": {
   "display_name": "Python 3",
   "language": "python",
   "name": "python3"
  },
  "language_info": {
   "codemirror_mode": {
    "name": "ipython",
    "version": 3
   },
   "file_extension": ".py",
   "mimetype": "text/x-python",
   "name": "python",
   "nbconvert_exporter": "python",
   "pygments_lexer": "ipython3",
   "version": "3.7.5"
  }
 },
 "nbformat": 4,
 "nbformat_minor": 2
}

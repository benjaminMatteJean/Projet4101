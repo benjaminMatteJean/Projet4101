{
 "cells": [
  {
   "cell_type": "code",
   "execution_count": 2,
   "metadata": {},
   "outputs": [],
   "source": [
    "import numpy\n",
    "import pickle\n",
    "import time\n",
    "\n",
    "from sklearn.preprocessing import OneHotEncoder\n",
    "from sklearn.model_selection import train_test_split\n",
    "from sklearn.svm import LinearSVC\n",
    "from sklearn.cluster import KMeans\n",
    "from sklearn.mixture import GaussianMixture\n",
    "from sklearn.metrics import adjusted_rand_score, adjusted_mutual_info_score, v_measure_score\n",
    "\n",
    "import torch\n",
    "import torch.nn as nn\n",
    "import torch.nn.functional as F\n",
    "from torch.autograd import Variable\n",
    "\n",
    "import pandas as pd\n",
    "\n",
    "from torch.optim import SGD, Adam\n",
    "from torch.utils.data import Dataset, DataLoader\n",
    "\n",
    "import matplotlib\n",
    "matplotlib.rcParams['figure.figsize'] = (9.0, 7.0)\n",
    "from matplotlib import pyplot"
   ]
  },
  {
   "cell_type": "code",
   "execution_count": 3,
   "metadata": {},
   "outputs": [],
   "source": [
    "# Load data from numpy file\n",
    "# debinarizedData = numpy.load('debinarizedData.npy')\n",
    "# numpy.shape(debinarizedData)"
   ]
  },
  {
   "cell_type": "code",
   "execution_count": 4,
   "metadata": {},
   "outputs": [],
   "source": [
    "# Load data from pickle file\n",
    "\n",
    "# infile = open('../Projet/trainDatasetPerdiem-20191028.pkl', 'rb')\n",
    "# data, labels = pickle.load(infile)\n",
    "\n",
    "# infile.close()\n",
    "\n",
    "# data_numpy = data.to_numpy()\n",
    "# print(labels)\n",
    "# data.describe() # give column stats\n",
    "\n",
    "# To one-hot-encode\n",
    "# - Spécialité de médecins        | 33\n",
    "# - Université de graduation      | 14\n",
    "# - Plage horaire de facturation  | 3\n",
    "# - Agence de représentation      | 845\n",
    "# - Établissements                | 241"
   ]
  },
  {
   "cell_type": "code",
   "execution_count": 5,
   "metadata": {},
   "outputs": [],
   "source": [
    "# Separate labeled and unlabeled data\n",
    "\n",
    "# unlabeled = data_numpy[data_numpy[:, 1182] == -1][:, :-1]\n",
    "# numpy.random.shuffle(unlabeled)\n",
    "# numpy.save('unlabeled.npy', unlabeled)\n",
    "\n",
    "# labeled = data_numpy[data_numpy[:, 1182] != -1]\n",
    "# numpy.random.shuffle(labeled)\n",
    "# numpy.save('labeled.npy', labeled)"
   ]
  },
  {
   "cell_type": "code",
   "execution_count": 9,
   "metadata": {},
   "outputs": [
    {
     "data": {
      "image/png": "[encoded data removed]",
      "text/plain": [
       "<Figure size 432x288 with 1 Axes>"
      ]
     },
     "metadata": {
      "needs_background": "light"
     },
     "output_type": "display_data"
    }
   ],
   "source": [
    "# Make smaller sample for testing\n",
    "\n",
    "# unlabeled = numpy.load('unlabeled.npy')\n",
    "# smaller_size = 5000\n",
    "# smaller_unlabeled = unlabeled[:smaller_size]\n",
    "# numpy.save('smaller_unlabeled.npy', smaller_unlabeled)\n",
    "\n",
    "smaller_unlabeled = numpy.load('smaller_unlabeled.npy')\n",
    "labeled = numpy.load('labeled.npy')\n",
    "\n",
    "X, y_labeled = labeled[:, :-1], labeled[:, -1].astype(int)\n",
    "X_train, X_test, y_train, y_test = train_test_split(X, y_labeled, test_size=0.2, random_state=42)\n",
    "\n",
    "# Convert Data to pytorch tensors\n",
    "device = \"cuda\" if torch.cuda.is_available() else \"cpu\"\n",
    "X_tensor = torch.from_numpy(X).float().to(device)\n",
    "X_train_tensor = torch.from_numpy(X_train).float().to(device)\n",
    "y_train_tensor = torch.from_numpy(y_train).float().to(device)\n",
    "X_test_tensor = torch.from_numpy(X_test).float().to(device)\n",
    "y_test_tensor = torch.from_numpy(y_test).float().to(device)\n",
    "\n",
    "labels = ['Non-conforme', 'Conforme']\n",
    "\n",
    "numberOfClass0 = len(y_test[y_test == 0])\n",
    "numberOfClass1 = len(y_test[y_test == 1])\n",
    "ratio = numberOfClass0/numberOfClass1\n",
    "\n",
    "x = numpy.arange(len(labels))\n",
    "width = 0.35\n",
    "\n",
    "fig, subfig = pyplot.subplots()\n",
    "subfig.bar(x, [numberOfClass0, numberOfClass1], width)\n",
    "\n",
    "subfig.set_ylabel('Nombre d\\'instance')\n",
    "subfig.set_title(f'Ratio Non-Conforme/Conforme: {ratio}')\n",
    "subfig.set_xticks(x)\n",
    "subfig.set_xticklabels(labels)\n",
    "\n",
    "pyplot.show()"
   ]
  },
  {
   "cell_type": "code",
   "execution_count": 10,
   "metadata": {},
   "outputs": [],
   "source": [
    "def KmeansClustering(X, y, k):\n",
    "    kmeans = KMeans(n_clusters=k).fit(X)\n",
    "    \n",
    "    # Labels trouvé par le K-means\n",
    "    cluster_labels = kmeans.labels_\n",
    "    cluster_classes = []\n",
    "    for c in range(k):\n",
    "        # Labels réels du cluster\n",
    "        cluster_ys = numpy.array(y[cluster_labels == c])\n",
    "        # Classe la plus fréquente\n",
    "        cluster_class = numpy.bincount(cluster_ys).argmax()\n",
    "        cluster_classes.append(cluster_class)\n",
    "    \n",
    "    # Predictions des clusters\n",
    "    y_pred = []\n",
    "    for val in cluster_labels:\n",
    "        y_pred.append(int(cluster_classes[val]))\n",
    "    \n",
    "    return numpy.array(y_pred)\n",
    "\n",
    "def evalEM(X, y, k):\n",
    "    mixture = GaussianMixture(n_components=k, init_params='kmeans').fit(X)\n",
    "    y_prob = mixture.predict_proba(X)\n",
    "    \n",
    "    # Considérant qu'il y a seulement deux classes\n",
    "    # Probabilité de classe 0 sachant Gj\n",
    "    C0_GJ = numpy.sum((1-y).reshape(-1, 1) * y_prob, axis=0)/numpy.sum((1-y).reshape(-1, 1) * y_prob)\n",
    "    # Probabilité de classe 1 sachant Gj\n",
    "    C1_GJ = numpy.sum(y.reshape(-1, 1) * y_prob, axis=0)/numpy.sum(y.reshape(-1, 1) * y_prob)\n",
    "    # Probabilité de classe 1 sachant xt\n",
    "    C1_XT = numpy.sum(C1_GJ * y_prob, axis=1)/(numpy.sum(C0_GJ * y_prob, axis=1) + numpy.sum(C1_GJ * y_prob, axis=1))\n",
    "    \n",
    "    y_pred = []\n",
    "    for i in range(y.shape[0]):\n",
    "        label = 1 if C1_XT[i] > 0.5 else 0\n",
    "        y_pred.append(label)\n",
    "    \n",
    "    return numpy.array(y_pred)"
   ]
  },
  {
   "cell_type": "code",
   "execution_count": 11,
   "metadata": {},
   "outputs": [],
   "source": [
    "# Make dataset\n",
    "class RAMQDatasetForAE(Dataset):\n",
    "    \n",
    "    def __init__(self, data, labels=None):\n",
    "        super().__init__()\n",
    "        self.data = []\n",
    "\n",
    "        if not isinstance(labels, numpy.ndarray):\n",
    "            labels = data\n",
    "        dataset = list(zip(data, labels))\n",
    "        \n",
    "        for x, y in dataset:\n",
    "            x = torch.Tensor(x.tolist())\n",
    "            y = torch.Tensor([y])\n",
    "            self.data.append((x, y))\n",
    "\n",
    "    def __getitem__(self, index):\n",
    "        return self.data[index]\n",
    "    \n",
    "    def __len__(self):\n",
    "        return len(self.data)"
   ]
  },
  {
   "cell_type": "code",
   "execution_count": null,
   "metadata": {},
   "outputs": [],
   "source": []
  },
  {
   "cell_type": "code",
   "execution_count": 12,
   "metadata": {},
   "outputs": [],
   "source": [
    "# PARAMETRISED ENCODER AND DECODER\n",
    "\n",
    "class Encoder(nn.Module):\n",
    "    def __init__(self, dimensions, \n",
    "                 k_features, \n",
    "                 nb_layers=3,\n",
    "                 activation=nn.ReLU(),\n",
    "                 init=None,\n",
    "                 dropout=None\n",
    "                ):\n",
    "        super().__init__()\n",
    "        \n",
    "        self.activation = activation\n",
    "        self.init = init\n",
    "        \n",
    "        # Speed of reduction\n",
    "        reduction_ratio = (k_features/dimensions)**(1/nb_layers)\n",
    "        \n",
    "        layers = []\n",
    "        layer_lenght = dimensions\n",
    "        \n",
    "        # Calculate nb of layers and nb of neurons\n",
    "        # Builds a list (ex:[1000, 500, 250, ... until k_features])\n",
    "        # This list is half the network, aka encoder. Decoder will be\n",
    "        # built using the inverse list \n",
    "        while layer_lenght > k_features:\n",
    "            layers.append(layer_lenght)\n",
    "            layer_lenght = int(layer_lenght*reduction_ratio)\n",
    "        layers.append(k_features)\n",
    "        \n",
    "        # Build encoder layers\n",
    "        encoder_layers = []\n",
    "        for i, n_neurons in enumerate(layers[:-1]):\n",
    "            layer = nn.Linear(layers[i], layers[i+1], bias=False)\n",
    "            if init:\n",
    "                init(layer.weight)\n",
    "            encoder_layers.append(layer)\n",
    "            encoder_layers.append(activation)\n",
    "            if dropout:\n",
    "                encoder_layers.append(nn.Dropout(dropout))\n",
    "            \n",
    "        # Save decoder structure for DecoderFromEncoder()\n",
    "        self.decoder_layers_sizes = list(reversed(layers))\n",
    "                                \n",
    "        # Build pytorch sequential network\n",
    "        self.encoder = nn.Sequential(*encoder_layers)\n",
    "        \n",
    "        \n",
    "    def forward(self, x):\n",
    "        x = self.encoder(x)\n",
    "        return x\n",
    "    \n",
    "class DecoderFromEncoder(nn.Module):\n",
    "    def __init__(self, encoder):\n",
    "        super().__init__()\n",
    "        \n",
    "        # Copy encoder hyperparams\n",
    "        activation = encoder.activation\n",
    "        \n",
    "        # Array of decoder layer sizes calculated from encoder\n",
    "        decoder_layers_sizes = encoder.decoder_layers_sizes\n",
    "        # Pytorch nn layers of encoder\n",
    "        encoder_layers = list(encoder.named_parameters())\n",
    "        \n",
    "        # Build decoder layers\n",
    "        decoder_layers = []\n",
    "        encoder_layers.reverse()\n",
    "        for i, n_neurons in enumerate(decoder_layers_sizes[:-1]):\n",
    "            layer = nn.Linear(decoder_layers_sizes[i], \n",
    "                              decoder_layers_sizes[i+1], bias=False)\n",
    "            # Replace weights with those of encoder\n",
    "            weights = encoder_layers[i][1].data.transpose(0,1)\n",
    "            layer.weight.data = weights\n",
    "            #layer.bias.data = bias\n",
    "            # Add layer\n",
    "            decoder_layers.append(layer)\n",
    "            # Add activation\n",
    "            decoder_layers.append(activation)\n",
    "        \n",
    "        # Build pytorch sequential network\n",
    "        self.decoder = nn.Sequential(*decoder_layers)\n",
    "\n",
    "    def forward(self, x):\n",
    "        x = self.decoder(x)\n",
    "        return x    "
   ]
  },
  {
   "cell_type": "code",
   "execution_count": null,
   "metadata": {},
   "outputs": [],
   "source": [
    "# Source: https://discuss.pytorch.org/t/k-means-loss-calculation/22041/7\n",
    "class KMeansClusteringLoss(torch.nn.Module):\n",
    "    def __init__(self):\n",
    "        super(KMeansClusteringLoss,self).__init__()\n",
    "\n",
    "    def forward(self, encode_output, centroids):\n",
    "        assert (encode_output.shape[1] == centroids.shape[1]),\"Dimensions Mismatch\"\n",
    "        n = encode_output.shape[0]\n",
    "        d = encode_output.shape[1]\n",
    "        k = centroids.shape[0]\n",
    "\n",
    "        z = encode_output.reshape(n,1,d)\n",
    "        z = z.repeat(1,k,1)\n",
    "\n",
    "        mu = centroids.reshape(1,k,d)\n",
    "        mu = mu.repeat(n,1,1)\n",
    "\n",
    "        dist = (z-mu).norm(2,dim=2).reshape((n,k))\n",
    "        loss = (dist.min(dim=1)[0]**2).mean()\n",
    "\n",
    "        return loss"
   ]
  },
  {
   "cell_type": "code",
   "execution_count": 58,
   "metadata": {
    "scrolled": true
   },
   "outputs": [],
   "source": [
    "# AE Training\n",
    "# Pretrain autoencoder to minimise reconstruction loss \n",
    "# and keep model for clustering\n",
    "def trainAutoEncoder(encoder, \n",
    "                     nb_epoch=5,\n",
    "                     verbose=True, \n",
    "                     plot_loss=False,\n",
    "                     cluster = False,\n",
    "                     k_clusters = 10,\n",
    "                     clustering = KmeansClustering,\n",
    "                     error_ratio = 0.6\n",
    "                    ):\n",
    "    \n",
    "    # Setup cuda if available\n",
    "    device = \"cuda\" if torch.cuda.is_available() else \"cpu\"\n",
    "\n",
    "    # Training parameters \n",
    "    learning_rate = 0.02\n",
    "    momentum = 0.9\n",
    "    \n",
    "    if cluster:\n",
    "        batch_size = 32\n",
    "        train_set = RAMQDatasetForAE(X_train, y_train)\n",
    "    else:\n",
    "        batch_size = 64\n",
    "        # Load data set and create dataloader\n",
    "        train_set = RAMQDatasetForAE(smaller_unlabeled)\n",
    "\n",
    "    train_loader = DataLoader(train_set, batch_size=batch_size)\n",
    "\n",
    "    # Load model and setup proper device\n",
    "    encoder.to(device)\n",
    "\n",
    "    # Reconstruction loss and optimzer\n",
    "    rec_criterion = nn.MSELoss()\n",
    "    clustering_criterion = nn.BCELoss()\n",
    "    optimizer = SGD(encoder.parameters(), lr=learning_rate, momentum=momentum)\n",
    "\n",
    "    encoder.train()\n",
    "    losses = []\n",
    "    for i_epoch in range(nb_epoch):\n",
    "\n",
    "        train_losses, cluster_perform = [], []\n",
    "        if verbose and i_epoch%25==0:\n",
    "            start_time = time.time()\n",
    "        for i_batch, batch in enumerate(train_loader):\n",
    "            # Read batch data\n",
    "            x, y = batch\n",
    "            \n",
    "            # Create decoder for current encoder\n",
    "            decoder = DecoderFromEncoder(encoder)\n",
    "            decoder.to(device)\n",
    "            decoder.train()\n",
    "            \n",
    "            # Freeze decoder weights \n",
    "            for name, param in decoder.named_parameters():\n",
    "                param.requires_grad = False\n",
    "            \n",
    "            # Reset gradients to zero\n",
    "            optimizer.zero_grad()\n",
    "\n",
    "            # Encode-decode\n",
    "            encoded = encoder(x)\n",
    "            decoded = decoder(encoded)\n",
    "            \n",
    "            # Reconstruction loss\n",
    "            rec_loss = rec_criterion(decoded, x)\n",
    "            # Clustering Loss\n",
    "            if cluster:\n",
    "                # Encode X, convert X and y to numpy\n",
    "                X_train_reduced = encoder(x).detach().numpy()\n",
    "                y_numpy = y.numpy()[:, 0].astype(int)\n",
    "                # Get y predictions from clustering\n",
    "                y_pred = clustering(X_train_reduced, y_numpy, k_clusters)\n",
    "                # Convert y labeled and predictions to tensor\n",
    "                y_pred_tensor = Variable(torch.from_numpy(y_pred).float(),\n",
    "                                         requires_grad=True)\n",
    "                y_tensor = Variable(torch.from_numpy(y_numpy).float(),\n",
    "                                    requires_grad=False)\n",
    "                # Clustering loss\n",
    "                mut_perf = adjusted_mutual_info_score(y_numpy, y_pred)\n",
    "                cluster_perform.append(mut_perf)\n",
    "                clustering_loss = clustering_criterion(y_pred_tensor, y_tensor)\n",
    "                # Total loss\n",
    "                loss = error_ratio*(rec_loss) + (1-error_ratio)*(clustering_loss)\n",
    "            else:\n",
    "                loss = rec_loss\n",
    "\n",
    "            # Backpropagate and gradient descent\n",
    "            loss.backward()\n",
    "            optimizer.step()\n",
    "\n",
    "            train_losses.append(loss.item())\n",
    "            progress = int(20*i_batch/len(train_loader))+1\n",
    "            progress_bar = '='*progress + ' '*(20-progress)\n",
    "            batch_perc = 100*i_batch/len(train_loader)\n",
    "            \n",
    "            print(f' [-] epoch {i_epoch:4}/{nb_epoch} | [{progress_bar}] {batch_perc:.2f}%', end='\\r')\n",
    "\n",
    "        mean_loss = numpy.mean(train_losses)\n",
    "        if cluster:\n",
    "            mean_mut_perf = numpy.mean(cluster_perform)\n",
    "        losses.append(mean_loss)\n",
    "        if verbose and i_epoch%25==0:\n",
    "            if cluster:\n",
    "                print(' [-] epoch {:4}/{:}, train loss {:.6f} in {:.2f}s, mut. inf.: {:.2f} \\t'.format(\n",
    "                    i_epoch, nb_epoch, mean_loss, time.time()-start_time, mean_mut_perf))\n",
    "            else:\n",
    "                print(' [-] epoch {:4}/{:}, train loss {:.6f} in {:.2f}s'.format(\n",
    "                    i_epoch, nb_epoch, mean_loss, time.time()-start_time))\n",
    "    if plot_loss:\n",
    "        pyplot.plot(losses)\n",
    "        pyplot.title('Epoch Losses')\n",
    "        pyplot.xlabel('Epoch')\n",
    "        pyplot.ylabel('Loss')\n",
    "        pyplot.show()"
   ]
  },
  {
   "cell_type": "code",
   "execution_count": 59,
   "metadata": {},
   "outputs": [],
   "source": [
    "# function returns WSS score for k values from 1 to kmax\n",
    "def calculate_WSS(points, kmax):\n",
    "    sse = []\n",
    "    for k in range(1, kmax+1, 10):\n",
    "        kmeans = KMeans(n_clusters = k).fit(points)\n",
    "        centroids = kmeans.cluster_centers_\n",
    "        pred_clusters = kmeans.predict(points)\n",
    "        curr_sse = 0\n",
    "\n",
    "        # calculate square of Euclidean distance of each point from its cluster center and add to current WSS\n",
    "        for i in range(len(points)):\n",
    "            curr_center = centroids[pred_clusters[i]]\n",
    "            curr_sse += (points[i, 0] - curr_center[0]) ** 2 + (points[i, 1] - curr_center[1]) ** 2\n",
    "\n",
    "        sse.append(curr_sse)\n",
    "    return sse"
   ]
  },
  {
   "cell_type": "code",
   "execution_count": 66,
   "metadata": {},
   "outputs": [
    {
     "name": "stderr",
     "output_type": "stream",
     "text": [
      "c:\\users\\alext\\appdata\\local\\programs\\python\\python37\\lib\\site-packages\\sklearn\\svm\\_base.py:947: ConvergenceWarning: Liblinear failed to converge, increase the number of iterations.\n",
      "  \"the number of iterations.\", ConvergenceWarning)\n"
     ]
    },
    {
     "name": "stdout",
     "output_type": "stream",
     "text": [
      "Score on all dimensions: 0.8685121107266436 \n",
      "\n",
      "Pretraining autoencoder:\n",
      " [-] epoch    0/200, train loss 0.030713 in 1.41s3%\n",
      " [-] epoch   25/200, train loss 0.022909 in 1.45s3%\n",
      " [-] epoch   50/200, train loss 0.022295 in 1.41s3%\n",
      " [-] epoch   75/200, train loss 0.020654 in 1.55s3%\n",
      " [-] epoch  100/200, train loss 0.019370 in 1.34s3%\n",
      " [-] epoch  125/200, train loss 0.018654 in 1.42s3%\n",
      " [-] epoch  150/200, train loss 0.018287 in 1.46s3%\n",
      " [-] epoch  175/200, train loss 0.017919 in 1.36s3%\n",
      " [-] epoch  199/200 | [====================] 98.73%\r"
     ]
    },
    {
     "data": {
      "image/png": "[encoded data removed]",
      "text/plain": [
       "<Figure size 432x288 with 1 Axes>"
      ]
     },
     "metadata": {
      "needs_background": "light"
     },
     "output_type": "display_data"
    },
    {
     "name": "stdout",
     "output_type": "stream",
     "text": [
      "Full (1152, 1182)\n",
      "Reduced (1152, 100)\n"
     ]
    },
    {
     "name": "stderr",
     "output_type": "stream",
     "text": [
      "c:\\users\\alext\\appdata\\local\\programs\\python\\python37\\lib\\site-packages\\sklearn\\svm\\_base.py:947: ConvergenceWarning: Liblinear failed to converge, increase the number of iterations.\n",
      "  \"the number of iterations.\", ConvergenceWarning)\n"
     ]
    },
    {
     "name": "stdout",
     "output_type": "stream",
     "text": [
      "Score on 100 dimensions (before clustering): 0.7439446366782007 \n",
      "\n"
     ]
    },
    {
     "data": {
      "text/plain": [
       "Text(0, 0.5, 'Distance au carré')"
      ]
     },
     "execution_count": 66,
     "metadata": {},
     "output_type": "execute_result"
    },
    {
     "data": {
      "image/png": "[encoded data removed]",
      "text/plain": [
       "<Figure size 432x288 with 1 Axes>"
      ]
     },
     "metadata": {
      "needs_background": "light"
     },
     "output_type": "display_data"
    }
   ],
   "source": [
    "# Linear SVM performance with all dimensions\n",
    "clf = LinearSVC()\n",
    "clf.fit(X_train, y_train)\n",
    "score = clf.score(X_test, y_test)\n",
    "print(\"Score on all dimensions:\", score, '\\n')\n",
    "\n",
    "# Input_dimensions length\n",
    "input_d = numpy.shape(smaller_unlabeled)[1]\n",
    "k_features = 100\n",
    "nb_layers = 2\n",
    "\n",
    "encoder = Encoder(dimensions=input_d,\n",
    "                  k_features=k_features,\n",
    "                  nb_layers=nb_layers,\n",
    "                  dropout=0.2\n",
    "                 )\n",
    "\n",
    "# pretrain on unlabeled data\n",
    "print('Pretraining autoencoder:')\n",
    "trainAutoEncoder(encoder, nb_epoch=200, verbose=True, plot_loss=True)\n",
    "\n",
    "# Reduce dimensions on inputs\n",
    "encoder.eval() \n",
    "X_train_reduced = encoder(X_train_tensor).detach().numpy()\n",
    "X_test_reduced = encoder(X_test_tensor).detach().numpy()\n",
    "print('Full', X_train.shape)\n",
    "print('Reduced', X_train_reduced.shape)\n",
    "\n",
    "# Train Linear SVM\n",
    "clf = LinearSVC()\n",
    "clf.fit(X_train_reduced, y_train)\n",
    "\n",
    "# Calculate validation performance\n",
    "score = clf.score(X_test_reduced, y_test)\n",
    "print(f\"Score on {k_features} dimensions (before clustering):\", score, '\\n')\n",
    "\n",
    "# TEST CLUSTERING\n",
    "sse = calculate_WSS(X_reduced, 200)\n",
    "pyplot.plot(sse)\n",
    "pyplot.title('Distance au carré entre les points et le centre de leur cluster')\n",
    "pyplot.xlabel('Nombres de cluster')\n",
    "pyplot.ylabel('Distance au carré')"
   ]
  },
  {
   "cell_type": "code",
   "execution_count": 68,
   "metadata": {},
   "outputs": [
    {
     "name": "stdout",
     "output_type": "stream",
     "text": [
      "(1441, 100)\n",
      "(1441, 101)\n",
      "(1441, 51)\n"
     ]
    }
   ],
   "source": [
    "# # Compress labeled dataset\n",
    "X_reduced = encoder(X_tensor).detach().numpy()\n",
    "print(X_reduced.shape)\n",
    "data_reduced = numpy.append(X_reduced, y_labeled.reshape((len(y_labeled), 1)), axis=1)\n",
    "print(data_reduced.shape)\n",
    "# # Save \n",
    "numpy.save(f'labeled_reduit_{k_features}dim.npy', data_reduced)\n",
    "labeled = numpy.load('labeled_reduit_50dim.npy')\n",
    "print(labeled.shape)"
   ]
  },
  {
   "cell_type": "code",
   "execution_count": 65,
   "metadata": {},
   "outputs": [
    {
     "name": "stdout",
     "output_type": "stream",
     "text": [
      "Optimising autoencoder for clustering:\n",
      " [-] epoch    0/200, train loss 6.048031 in 2.81s, mut. inf.: 0.16 \t\n",
      " [-] epoch   25/200, train loss 6.374230 in 2.91s, mut. inf.: 0.14 \t\n",
      " [-] epoch   50/200, train loss 6.508532 in 2.80s, mut. inf.: 0.14 \t\n",
      " [-] epoch   75/200, train loss 6.604466 in 3.01s, mut. inf.: 0.13 \t\n",
      " [-] epoch  100/200, train loss 6.182326 in 3.01s, mut. inf.: 0.15 \t\n",
      " [-] epoch  125/200, train loss 5.913682 in 2.90s, mut. inf.: 0.17 \t\n",
      " [-] epoch  150/200, train loss 5.952054 in 2.81s, mut. inf.: 0.17 \t\n",
      " [-] epoch  175/200, train loss 6.086369 in 3.75s, mut. inf.: 0.16 \t\n",
      " [-] epoch  199/200 | [====================] 97.22%\r"
     ]
    },
    {
     "data": {
      "image/png": "[encoded data removed]",
      "text/plain": [
       "<Figure size 432x288 with 1 Axes>"
      ]
     },
     "metadata": {
      "needs_background": "light"
     },
     "output_type": "display_data"
    },
    {
     "name": "stdout",
     "output_type": "stream",
     "text": [
      "Score on 50 dimensions (after clustering): 0.6747404844290658\n"
     ]
    },
    {
     "name": "stderr",
     "output_type": "stream",
     "text": [
      "c:\\users\\alext\\appdata\\local\\programs\\python\\python37\\lib\\site-packages\\sklearn\\svm\\_base.py:947: ConvergenceWarning: Liblinear failed to converge, increase the number of iterations.\n",
      "  \"the number of iterations.\", ConvergenceWarning)\n"
     ]
    }
   ],
   "source": [
    "# Performances de clustering\n",
    "# perfs = []\n",
    "# for i in range(1, 30):\n",
    "#     y_pred = evalEM(X_train_reduced, y_train, 10)\n",
    "\n",
    "#     y_correct = y_train[y_train == y_pred]\n",
    "#     perf = len(y_correct)/len(y_train)\n",
    "#     perfs.append(perf)\n",
    "    \n",
    "# pyplot.plot(perfs)\n",
    "# optimise for clustering on labeled data\n",
    "print('Optimising autoencoder for clustering:')\n",
    "trainAutoEncoder(encoder, nb_epoch=200, verbose=True, plot_loss=True, \n",
    "                 cluster=True,\n",
    "                 k_clusters=10,\n",
    "                 error_ratio = 0.2\n",
    "                )\n",
    "\n",
    "# Reduce dimensions on inputs\n",
    "encoder.eval() \n",
    "X_train_reduced = encoder(X_train_tensor).detach().numpy()\n",
    "X_test_reduced = encoder(X_test_tensor).detach().numpy()\n",
    "\n",
    "# Train Linear SVM\n",
    "clf = LinearSVC()\n",
    "clf.fit(X_train_reduced, y_train)\n",
    "\n",
    "# Calculate validation performance\n",
    "score = clf.score(X_test_reduced, y_test)\n",
    "print(f\"Score on {k_features} dimensions (after clustering):\", score)"
   ]
  },
  {
   "cell_type": "markdown",
   "metadata": {},
   "source": [
    "Score on all dimensions: 0.8685121107266436<br>\n",
    "### (100 dim) 5 layers\n",
    "- 5 data:\n",
    "    - 0.7612456747404844\n",
    "- 25 data:\n",
    "    - 0.7785467128027682\n",
    "- 50 data:\n",
    "    - 0.7335640138408305\n",
    "- 100 data:\n",
    "    - 0.7923875432525952\n",
    "- 500 data:\n",
    "    - 0.7923875432525952\n",
    "- 1000 data:\n",
    "    - 0.7820069204152249\n",
    "- 3000 data:\n",
    "    - 0.7923875432525952\n",
    "- 5000 data:\n",
    "    - 0.7958477508650519\n",
    "- 10 000 data:   \n",
    "    - 0.7750865051903114\n",
    "- 50 000 data:   \n",
    "    - 0.7785467128027682\n",
    "- 100 000 data:  \n",
    "    - 0.8131487889273357\n",
    "- 200 000 data:  \n",
    "    - 0.7854671280276817\n",
    "- 1.7 million: \n",
    "    - 0.7820069204152249"
   ]
  },
  {
   "cell_type": "code",
   "execution_count": 19,
   "metadata": {},
   "outputs": [
    {
     "name": "stdout",
     "output_type": "stream",
     "text": [
      "[ 100% ] 5 layers, 50 features, score: 54.79% | 616.6s \t\r"
     ]
    },
    {
     "data": {
      "image/png": "[encoded data removed]",
      "text/plain": [
       "<Figure size 432x288 with 1 Axes>"
      ]
     },
     "metadata": {
      "needs_background": "light"
     },
     "output_type": "display_data"
    }
   ],
   "source": [
    "# Test effect of number of k reduced dimensions\n",
    "# and network depth\n",
    "start_time = time.time()\n",
    "\n",
    "# Input_dimensions length\n",
    "input_d = numpy.shape(smaller_unlabeled)[1]\n",
    "\n",
    "K = [600, 400, 250, 100, 50]\n",
    "L = [1, 2, 3, 4, 5]\n",
    "\n",
    "step = 1/(len(K)*len(L))\n",
    "\n",
    "for i, l in enumerate(L):\n",
    "    scores = []\n",
    "    for j, k in enumerate(K):\n",
    "        encoder = Encoder(dimensions=input_d, \n",
    "                          k_features=k, \n",
    "                          nb_layers=l)\n",
    "\n",
    "        # train on unlabeled data\n",
    "        trainAutoEncoder(encoder, nb_epoch=10, verbose=False)\n",
    "\n",
    "        \n",
    "        # Reduce dimensions on inputs\n",
    "        encoder.eval() \n",
    "        X_train_reduced = encoder(X_train_tensor).detach().numpy()\n",
    "        X_test_reduced = encoder(X_test_tensor).detach().numpy()\n",
    "        \n",
    "        # Train Linear SVM\n",
    "        clf = LinearSVC()\n",
    "        clf.fit(X_train_reduced, y_train)\n",
    "        \n",
    "        # Calculate validation performance\n",
    "        score = clf.score(X_test_reduced, y_test)\n",
    "        scores.append(score)\n",
    "        \n",
    "        # Display progress\n",
    "        progress = 100*((step*(i)*len(K))+(step*(j+1)))\n",
    "        print(f'[ {progress:.0f}% ] {l} layers, {k} features, score: {(100*score):.2f}% | {(time.time()-start_time):.1f}s \\t', end='\\r')\n",
    "    \n",
    "    pyplot.plot(K, scores, label=f'{l}')\n",
    "    \n",
    "pyplot.title(f'Performance de l\\'architecture d\\'autoencodeurs pour \\n la réduction de dimentionnalité')\n",
    "pyplot.ylabel('Score Test')\n",
    "pyplot.ylim(0, 1)\n",
    "pyplot.xlabel(f'Nombre de dimensions après réduction ({input_d} original)')\n",
    "pyplot.legend(title=\"Nb de couches\")\n",
    "pyplot.show()"
   ]
  },
  {
   "cell_type": "code",
   "execution_count": 18,
   "metadata": {},
   "outputs": [
    {
     "name": "stdout",
     "output_type": "stream",
     "text": [
      "[ 40% ] 2 layers, 50 features, score: 74.06% | 62.1s \t\t\r"
     ]
    },
    {
     "name": "stderr",
     "output_type": "stream",
     "text": [
      "c:\\users\\alext\\appdata\\local\\programs\\python\\python37\\lib\\site-packages\\sklearn\\svm\\_base.py:947: ConvergenceWarning: Liblinear failed to converge, increase the number of iterations.\n",
      "  \"the number of iterations.\", ConvergenceWarning)\n"
     ]
    },
    {
     "name": "stdout",
     "output_type": "stream",
     "text": [
      "[ 60% ] 3 layers, 50 features, score: 72.12% | 125.4s \t\t\r"
     ]
    },
    {
     "name": "stderr",
     "output_type": "stream",
     "text": [
      "c:\\users\\alext\\appdata\\local\\programs\\python\\python37\\lib\\site-packages\\sklearn\\svm\\_base.py:947: ConvergenceWarning: Liblinear failed to converge, increase the number of iterations.\n",
      "  \"the number of iterations.\", ConvergenceWarning)\n"
     ]
    },
    {
     "name": "stdout",
     "output_type": "stream",
     "text": [
      "[ 64% ] 4 layers, 600 features, score: 84.05% | 152.8s \t\r"
     ]
    },
    {
     "name": "stderr",
     "output_type": "stream",
     "text": [
      "c:\\users\\alext\\appdata\\local\\programs\\python\\python37\\lib\\site-packages\\sklearn\\svm\\_base.py:947: ConvergenceWarning: Liblinear failed to converge, increase the number of iterations.\n",
      "  \"the number of iterations.\", ConvergenceWarning)\n"
     ]
    },
    {
     "name": "stdout",
     "output_type": "stream",
     "text": [
      "[ 68% ] 4 layers, 400 features, score: 82.66% | 174.0s \t\r"
     ]
    },
    {
     "name": "stderr",
     "output_type": "stream",
     "text": [
      "c:\\users\\alext\\appdata\\local\\programs\\python\\python37\\lib\\site-packages\\sklearn\\svm\\_base.py:947: ConvergenceWarning: Liblinear failed to converge, increase the number of iterations.\n",
      "  \"the number of iterations.\", ConvergenceWarning)\n"
     ]
    },
    {
     "name": "stdout",
     "output_type": "stream",
     "text": [
      "[ 80% ] 4 layers, 50 features, score: 75.03% | 210.0s \t\t\r"
     ]
    },
    {
     "name": "stderr",
     "output_type": "stream",
     "text": [
      "c:\\users\\alext\\appdata\\local\\programs\\python\\python37\\lib\\site-packages\\sklearn\\svm\\_base.py:947: ConvergenceWarning: Liblinear failed to converge, increase the number of iterations.\n",
      "  \"the number of iterations.\", ConvergenceWarning)\n"
     ]
    },
    {
     "name": "stdout",
     "output_type": "stream",
     "text": [
      "[ 84% ] 5 layers, 600 features, score: 83.50% | 245.1s \t\r"
     ]
    },
    {
     "name": "stderr",
     "output_type": "stream",
     "text": [
      "c:\\users\\alext\\appdata\\local\\programs\\python\\python37\\lib\\site-packages\\sklearn\\svm\\_base.py:947: ConvergenceWarning: Liblinear failed to converge, increase the number of iterations.\n",
      "  \"the number of iterations.\", ConvergenceWarning)\n"
     ]
    },
    {
     "name": "stdout",
     "output_type": "stream",
     "text": [
      "[ 88% ] 5 layers, 400 features, score: 82.11% | 271.3s \t\r"
     ]
    },
    {
     "name": "stderr",
     "output_type": "stream",
     "text": [
      "c:\\users\\alext\\appdata\\local\\programs\\python\\python37\\lib\\site-packages\\sklearn\\svm\\_base.py:947: ConvergenceWarning: Liblinear failed to converge, increase the number of iterations.\n",
      "  \"the number of iterations.\", ConvergenceWarning)\n"
     ]
    },
    {
     "name": "stdout",
     "output_type": "stream",
     "text": [
      "[ 92% ] 5 layers, 250 features, score: 81.00% | 291.5s \t\r"
     ]
    },
    {
     "name": "stderr",
     "output_type": "stream",
     "text": [
      "c:\\users\\alext\\appdata\\local\\programs\\python\\python37\\lib\\site-packages\\sklearn\\svm\\_base.py:947: ConvergenceWarning: Liblinear failed to converge, increase the number of iterations.\n",
      "  \"the number of iterations.\", ConvergenceWarning)\n"
     ]
    },
    {
     "name": "stdout",
     "output_type": "stream",
     "text": [
      "[ 100% ] 5 layers, 50 features, score: 73.23% | 316.9s \t\r"
     ]
    },
    {
     "data": {
      "image/png": "[encoded data removed]",
      "text/plain": [
       "<Figure size 432x288 with 1 Axes>"
      ]
     },
     "metadata": {
      "needs_background": "light"
     },
     "output_type": "display_data"
    }
   ],
   "source": [
    "# ELU ACTIVATION and He init\n",
    "# Test effect of number of k reduced dimensions\n",
    "# and network depth\n",
    "start_time = time.time()\n",
    "\n",
    "# Input_dimensions length\n",
    "input_d = numpy.shape(smaller_unlabeled)[1]\n",
    "\n",
    "K = [600, 400, 250, 100, 50]\n",
    "L = [1, 2, 3, 4, 5]\n",
    "\n",
    "step = 1/(len(K)*len(L))\n",
    "\n",
    "for i, l in enumerate(L):\n",
    "    scores = []\n",
    "    for j, k in enumerate(K):\n",
    "        encoder = Encoder(dimensions=input_d, \n",
    "                            k_features=k, \n",
    "                            nb_layers=l,\n",
    "                            activation=nn.ELU(),\n",
    "                            init=nn.init.kaiming_normal_\n",
    "                           )\n",
    "\n",
    "        # train on unlabeled data\n",
    "        trainAutoEncoder(encoder, verbose=False)\n",
    "        \n",
    "        # Reduce dimensions on inputs\n",
    "        encoder.eval()\n",
    "        X_train_reduced = encoder(X_train_tensor).detach().numpy()\n",
    "        X_test_reduced = encoder(X_test_tensor).detach().numpy()\n",
    "        \n",
    "        # Train Linear SVM\n",
    "        clf = LinearSVC()\n",
    "        clf.fit(X_train_reduced, y_train)\n",
    "        \n",
    "        # Calculate validation performance\n",
    "        score = clf.score(X_test_reduced, y_test)\n",
    "        scores.append(score)\n",
    "        \n",
    "        # Display progress\n",
    "        progress = 100*((step*(i)*len(K))+(step*(j+1)))\n",
    "        print(f'[ {progress:.0f}% ] {l} layers, {k} features, score: {(100*score):.2f}% | {(time.time()-start_time):.1f}s \\t', end='\\r')\n",
    "    \n",
    "    pyplot.plot(K, scores, label=f'{l}')\n",
    "    \n",
    "pyplot.title(f'Performance de l\\'architecture d\\'autoencodeurs pour \\n la réduction de dimentionnalité')\n",
    "pyplot.ylabel('Score Test')\n",
    "pyplot.ylim(0, 1)\n",
    "pyplot.xlabel(f'Nombre de dimensions après réduction ({input_d} original)')\n",
    "pyplot.legend(title=\"Nb de couches\")\n",
    "pyplot.show()"
   ]
  },
  {
   "cell_type": "code",
   "execution_count": null,
   "metadata": {},
   "outputs": [],
   "source": [
    "# AE clustering optimisation\n",
    "# Must retrain the autoencoder from pretrained weights\n",
    "# now optimising weights to minimise clustering loss\n",
    "# AND reconstruction loss\n"
   ]
  },
  {
   "cell_type": "code",
   "execution_count": 8,
   "metadata": {},
   "outputs": [],
   "source": []
  },
  {
   "cell_type": "code",
   "execution_count": null,
   "metadata": {},
   "outputs": [],
   "source": []
  }
 ],
 "metadata": {
  "kernelspec": {
   "display_name": "Python 3",
   "language": "python",
   "name": "python3"
  },
  "language_info": {
   "codemirror_mode": {
    "name": "ipython",
    "version": 3
   },
   "file_extension": ".py",
   "mimetype": "text/x-python",
   "name": "python",
   "nbconvert_exporter": "python",
   "pygments_lexer": "ipython3",
   "version": "3.7.5"
  }
 },
 "nbformat": 4,
 "nbformat_minor": 2
}

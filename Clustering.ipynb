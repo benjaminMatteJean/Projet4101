{
 "cells": [
  {
   "cell_type": "code",
   "execution_count": 3,
   "metadata": {},
   "outputs": [],
   "source": [
    "import numpy\n",
    "import pickle\n",
    "import time\n",
    "\n",
    "from sklearn.preprocessing import OneHotEncoder\n",
    "from sklearn.model_selection import train_test_split\n",
    "from sklearn.svm import LinearSVC\n",
    "from sklearn.cluster import KMeans\n",
    "from sklearn.mixture import GaussianMixture\n",
    "from sklearn.metrics import adjusted_rand_score, adjusted_mutual_info_score, v_measure_score\n",
    "\n",
    "import torch\n",
    "import torch.nn as nn\n",
    "import torch.nn.functional as F\n",
    "from torch.autograd import Variable\n",
    "\n",
    "import pandas as pd\n",
    "\n",
    "from torch.optim import SGD, Adam\n",
    "from torch.utils.data import Dataset, DataLoader\n",
    "\n",
    "import matplotlib\n",
    "matplotlib.rcParams['figure.figsize'] = (9.0, 7.0)\n",
    "from matplotlib import pyplot"
   ]
  },
  {
   "cell_type": "code",
   "execution_count": 6,
   "metadata": {},
   "outputs": [],
   "source": [
    "# Separate labeled and unlabeled data\n",
    "\n",
    "# unlabeled = data_numpy[data_numpy[:, 1182] == -1][:, :-1]\n",
    "# numpy.random.shuffle(unlabeled)\n",
    "# numpy.save('unlabeled.npy', unlabeled)\n",
    "\n",
    "# labeled = data_numpy[data_numpy[:, 1182] != -1]\n",
    "# numpy.random.shuffle(labeled)\n",
    "# numpy.save('labeled.npy', labeled)"
   ]
  },
  {
   "cell_type": "code",
   "execution_count": 204,
   "metadata": {},
   "outputs": [
    {
     "data": {
      "image/png": "[encoded data removed]",
      "text/plain": [
       "<Figure size 432x288 with 1 Axes>"
      ]
     },
     "metadata": {
      "needs_background": "light"
     },
     "output_type": "display_data"
    }
   ],
   "source": [
    "# Make smaller sample for testing\n",
    "\n",
    "# unlabeled = numpy.load('unlabeled.npy')\n",
    "# smaller_size = 5000\n",
    "# smaller_unlabeled = unlabeled[:smaller_size]\n",
    "# numpy.save('smaller_unlabeled.npy', smaller_unlabeled)\n",
    "\n",
    "smaller_unlabeled = numpy.load('smaller_unlabeled.npy')\n",
    "labeled = numpy.load('labeled.npy')\n",
    "\n",
    "X, y = labeled[:, :-1], labeled[:, -1].astype(int)\n",
    "X_train, X_test, y_train, y_test = train_test_split(X, y_labeled, test_size=0.2, random_state=42)\n",
    "\n",
    "# Convert Data to pytorch tensors\n",
    "device = \"cuda\" if torch.cuda.is_available() else \"cpu\"\n",
    "X_tensor = torch.from_numpy(X).float().to(device)\n",
    "X_train_tensor = torch.from_numpy(X_train).float().to(device)\n",
    "y_train_tensor = torch.from_numpy(y_train).float().to(device)\n",
    "X_test_tensor = torch.from_numpy(X_test).float().to(device)\n",
    "y_test_tensor = torch.from_numpy(y_test).float().to(device)\n",
    "\n",
    "labels = ['Non-conforme', 'Conforme']\n",
    "\n",
    "numberOfClass0 = len(y_test[y_test == 0])\n",
    "numberOfClass1 = len(y_test[y_test == 1])\n",
    "ratio = numberOfClass0/numberOfClass1\n",
    "\n",
    "x = numpy.arange(len(labels))\n",
    "width = 0.35\n",
    "\n",
    "fig, subfig = pyplot.subplots()\n",
    "subfig.bar(x, [numberOfClass0, numberOfClass1], width)\n",
    "\n",
    "subfig.set_ylabel('Nombre d\\'instance')\n",
    "subfig.set_title(f'Ratio Non-Conforme/Conforme: {ratio}')\n",
    "subfig.set_xticks(x)\n",
    "subfig.set_xticklabels(labels)\n",
    "\n",
    "pyplot.show()"
   ]
  },
  {
   "cell_type": "code",
   "execution_count": 205,
   "metadata": {},
   "outputs": [],
   "source": [
    "def evalKmeans(X, y, k):\n",
    "    kmeans = KMeans(n_clusters=k).fit(X)\n",
    "    # Labels trouvé par le K-means\n",
    "    cluster_labels = kmeans.labels_\n",
    "    cluster_classes = []\n",
    "    for c in range(k):\n",
    "        # Labels réels du cluster\n",
    "        cluster_ys = numpy.array(y[cluster_labels == c])\n",
    "        # Classe la plus fréquente\n",
    "        cluster_class = numpy.bincount(cluster_ys).argmax()\n",
    "        cluster_classes.append(cluster_class)\n",
    "    \n",
    "    # Predictions des clusters\n",
    "    y_pred = []\n",
    "    for val in cluster_labels:\n",
    "        y_pred.append(int(cluster_classes[val]))\n",
    "    \n",
    "    # Performance\n",
    "    rand_perf = adjusted_rand_score(y, y_pred)\n",
    "    mut_perf = adjusted_mutual_info_score(y, y_pred)\n",
    "    v_perf = v_measure_score(y, y_pred)\n",
    "    \n",
    "    return((rand_perf, mut_perf, v_perf))"
   ]
  },
  {
   "cell_type": "code",
   "execution_count": 206,
   "metadata": {},
   "outputs": [],
   "source": [
    "# Make dataset\n",
    "class RAMQDatasetForAE(Dataset):\n",
    "    \n",
    "    def __init__(self, data, labels=None):\n",
    "        super().__init__()\n",
    "        self.data = []\n",
    "\n",
    "        if not isinstance(labels, numpy.ndarray):\n",
    "            labels = data\n",
    "        dataset = list(zip(data, labels))\n",
    "        \n",
    "        for x, y in dataset:\n",
    "            x = torch.Tensor(x.tolist())\n",
    "            y = torch.Tensor([y])\n",
    "            self.data.append((x, y))\n",
    "\n",
    "    def __getitem__(self, index):\n",
    "        return self.data[index]\n",
    "    \n",
    "    def __len__(self):\n",
    "        return len(self.data)"
   ]
  },
  {
   "cell_type": "code",
   "execution_count": 207,
   "metadata": {},
   "outputs": [],
   "source": [
    "# PARAMETRISED ENCODER AND DECODER\n",
    "\n",
    "class Encoder(nn.Module):\n",
    "    def __init__(self, dimensions, \n",
    "                 k_features, \n",
    "                 nb_layers=3,\n",
    "                 activation=nn.ReLU(),\n",
    "                 init=None,\n",
    "                 dropout=None\n",
    "                ):\n",
    "        super().__init__()\n",
    "        \n",
    "        self.activation = activation\n",
    "        self.init = init\n",
    "        \n",
    "        # Speed of reduction\n",
    "        reduction_ratio = (k_features/dimensions)**(1/nb_layers)\n",
    "        \n",
    "        layers = []\n",
    "        layer_lenght = dimensions\n",
    "        \n",
    "        # Calculate nb of layers and nb of neurons\n",
    "        # Builds a list (ex:[1000, 500, 250, ... until k_features])\n",
    "        # This list is half the network, aka encoder. Decoder will be\n",
    "        # built using the inverse list \n",
    "        while layer_lenght > k_features:\n",
    "            layers.append(layer_lenght)\n",
    "            layer_lenght = int(layer_lenght*reduction_ratio)\n",
    "        layers.append(k_features)\n",
    "        \n",
    "        # Build encoder layers\n",
    "        encoder_layers = []\n",
    "        for i, n_neurons in enumerate(layers[:-1]):\n",
    "            if dropout:\n",
    "                encoder_layers.append(nn.Dropout(dropout))\n",
    "            layer = nn.Linear(layers[i], layers[i+1], bias=False)\n",
    "            if init:\n",
    "                init(layer.weight)\n",
    "            encoder_layers.append(layer)\n",
    "            encoder_layers.append(activation)\n",
    "            \n",
    "        # Save decoder structure for DecoderFromEncoder()\n",
    "        self.decoder_layers_sizes = list(reversed(layers))\n",
    "                                \n",
    "        # Build pytorch sequential network\n",
    "        self.encoder = nn.Sequential(*encoder_layers)\n",
    "        \n",
    "        \n",
    "    def forward(self, x):\n",
    "        x = self.encoder(x)\n",
    "        return x\n",
    "    \n",
    "class DecoderFromEncoder(nn.Module):\n",
    "    def __init__(self, encoder):\n",
    "        super().__init__()\n",
    "        \n",
    "        # Copy encoder hyperparams\n",
    "        activation = encoder.activation\n",
    "        \n",
    "        # Array of decoder layer sizes calculated from encoder\n",
    "        decoder_layers_sizes = encoder.decoder_layers_sizes\n",
    "        # Pytorch nn layers of encoder\n",
    "        encoder_layers = list(encoder.named_parameters())\n",
    "        \n",
    "        # Build decoder layers\n",
    "        decoder_layers = []\n",
    "        encoder_layers.reverse()\n",
    "        for i, n_neurons in enumerate(decoder_layers_sizes[:-1]):\n",
    "            layer = nn.Linear(decoder_layers_sizes[i], \n",
    "                              decoder_layers_sizes[i+1], bias=False)\n",
    "            # Replace weights with those of encoder\n",
    "            weights = encoder_layers[i][1].data.transpose(0,1)\n",
    "            layer.weight.data = weights\n",
    "            #layer.bias.data = bias\n",
    "            # Add layer\n",
    "            decoder_layers.append(layer)\n",
    "            # Add activation\n",
    "            decoder_layers.append(activation)\n",
    "        \n",
    "        # Build pytorch sequential network\n",
    "        self.decoder = nn.Sequential(*decoder_layers)\n",
    "\n",
    "    def forward(self, x):\n",
    "        x = self.decoder(x)\n",
    "        return x    "
   ]
  },
  {
   "cell_type": "code",
   "execution_count": 258,
   "metadata": {},
   "outputs": [],
   "source": [
    "# Source: https://discuss.pytorch.org/t/k-means-loss-calculation/22041/7\n",
    "# Source: https://github.com/overshiki/kmeans_pytorch/blob/master/kmeans.py\n",
    "class KMeansClusteringLoss(torch.nn.Module):\n",
    "    def __init__(self, k, max_iter=100, tol=1e-2):\n",
    "        super(KMeansClusteringLoss,self).__init__()\n",
    "        self.k = k\n",
    "        self.max_iter = max_iter\n",
    "        self.tol = tol\n",
    "        \n",
    "    def calculate_dis(self, data1, data2):\n",
    "        A = data1.unsqueeze(dim=1)\n",
    "        B = data2.unsqueeze(dim=0)\n",
    "        dis = (A-B)**2.0\n",
    "        return dis.sum(dim=-1).squeeze()\n",
    "\n",
    "    def forward(self, X):\n",
    "        # Initialize k random cluster centers from X\n",
    "        a = numpy.arange(X.shape[0])\n",
    "        numpy.random.shuffle(a)\n",
    "        centroids = X[a[:self.k]]\n",
    "        \n",
    "        # Get N and dimensions numbers\n",
    "        n = X.shape[0]\n",
    "        d = X.shape[1]\n",
    "        \n",
    "        # Format X to map with centroids\n",
    "        z = X.reshape(n,1,d)\n",
    "        z = z.repeat(1,self.k,1)\n",
    "        \n",
    "        # Loop to optimise clustering\n",
    "        for i in range(self.max_iter):\n",
    "            # Reshape centroids\n",
    "            \n",
    "            # Calculate distance of each point to each centroid\n",
    "            dis = self.calculate_dis(X, centroids)\n",
    "            # Find matching centroid for each X\n",
    "            choice_cluster = torch.argmin(dis, dim=1).int()\n",
    "            # Copy centroid for shift evaluation\n",
    "            centroids_pre = centroids.clone()\n",
    "            # Loop for every centroid\n",
    "            for index in range(self.k):\n",
    "                # Find the associated X to the cluster\n",
    "                selected = torch.nonzero(choice_cluster==index).squeeze()\n",
    "                selected = torch.index_select(X, 0, selected)\n",
    "                \n",
    "                # New Centroid is the avg of every points in it\n",
    "                centroids[index] = selected.mean(dim=0)\n",
    "            \n",
    "            # Calculate shift of every centroid\n",
    "            center_shift = torch.sum(torch.sqrt(torch.sum((centroids - centroids_pre) ** 2, dim=1)))\n",
    "            \n",
    "            if center_shift ** 2 < self.tol:\n",
    "                break\n",
    "                \n",
    "        dis = self.calculate_dis(X, centroids)\n",
    "        loss = (dis.min(dim=1)[0]**2).mean()\n",
    "        return loss"
   ]
  },
  {
   "cell_type": "code",
   "execution_count": 250,
   "metadata": {
    "scrolled": true
   },
   "outputs": [],
   "source": [
    "# AE Training\n",
    "# Pretrain autoencoder to minimise reconstruction loss \n",
    "# and keep model for clustering\n",
    "def trainAutoEncoder(encoder, \n",
    "                     nb_epoch=5,\n",
    "                     verbose=True, \n",
    "                     plot_loss=False,\n",
    "                     cluster = False,\n",
    "                     k_clusters = 10,\n",
    "                     error_ratio = 0.6\n",
    "                    ):\n",
    "    \n",
    "    # Setup cuda if available\n",
    "    device = \"cuda\" if torch.cuda.is_available() else \"cpu\"\n",
    "\n",
    "    # Training parameters \n",
    "    learning_rate = 0.02\n",
    "    momentum = 0.9\n",
    "    batch_size = 100\n",
    "    if cluster:\n",
    "        batch_size = max([100, k_clusters*5])\n",
    "    \n",
    "    # Load data set and create dataloader\n",
    "    train_set = RAMQDatasetForAE(smaller_unlabeled)\n",
    "\n",
    "    train_loader = DataLoader(train_set, batch_size=batch_size)\n",
    "\n",
    "    # Load model and setup proper device\n",
    "    encoder.to(device)\n",
    "\n",
    "    # Reconstruction loss and optimzer\n",
    "    rec_criterion = nn.MSELoss()\n",
    "    clustering_criterion = KMeansClusteringLoss(k = k_clusters)\n",
    "    optimizer = SGD(encoder.parameters(), lr=learning_rate, momentum=momentum)\n",
    "\n",
    "    encoder.train()\n",
    "    losses = []\n",
    "    for i_epoch in range(nb_epoch):\n",
    "\n",
    "        train_losses, cluster_perform = [], []\n",
    "        if verbose and i_epoch%25==0:\n",
    "            start_time = time.time()\n",
    "        for i_batch, batch in enumerate(train_loader):\n",
    "            # Ignore last batch if not full lenght\n",
    "            if len(batch) != batch_size:\n",
    "                # Read batch data\n",
    "                x, y = batch\n",
    "\n",
    "                # Create decoder for current encoder\n",
    "                decoder = DecoderFromEncoder(encoder)\n",
    "                decoder.to(device)\n",
    "                decoder.train()\n",
    "\n",
    "                # Freeze decoder weights \n",
    "                for name, param in decoder.named_parameters():\n",
    "                    param.requires_grad = False\n",
    "\n",
    "                # Reset gradients to zero\n",
    "                optimizer.zero_grad()\n",
    "\n",
    "                # Encode-decode\n",
    "                encoded = encoder(x)\n",
    "                decoded = decoder(encoded)\n",
    "\n",
    "                # Reconstruction loss\n",
    "                rec_loss = rec_criterion(decoded, x)\n",
    "                # Clustering Loss\n",
    "                if cluster:\n",
    "                    clustering_loss = clustering_criterion(encoded)\n",
    "                    # Total loss\n",
    "                    loss = error_ratio*(rec_loss) + (1-error_ratio)*(clustering_loss)\n",
    "                else:\n",
    "                    loss = rec_loss\n",
    "\n",
    "                # Backpropagate and gradient descent\n",
    "                loss.backward()\n",
    "                optimizer.step()\n",
    "                train_losses.append(loss.item())\n",
    "                progress = int(20*i_batch/len(train_loader))+1\n",
    "                progress_bar = '='*progress + ' '*(20-progress)\n",
    "                batch_perc = 100*i_batch/len(train_loader)\n",
    "\n",
    "                print(f' [-] epoch {i_epoch:4}/{nb_epoch} | [{progress_bar}] {batch_perc:.2f}%, loss: {loss.item():.10f}', end='\\r')\n",
    "        mean_loss = numpy.mean(train_losses)\n",
    "        losses.append(mean_loss)\n",
    "        if verbose and i_epoch%25==0:\n",
    "            print(' [-] epoch {:4}/{:}, train loss {:.6f} in {:.2f}s'.format(\n",
    "                i_epoch, nb_epoch, mean_loss, time.time()-start_time))\n",
    "    if plot_loss:\n",
    "        pyplot.plot(losses)\n",
    "        pyplot.title('Epoch Losses')\n",
    "        pyplot.xlabel('Epoch')\n",
    "        pyplot.ylabel('Loss')\n",
    "        pyplot.show()"
   ]
  },
  {
   "cell_type": "code",
   "execution_count": 251,
   "metadata": {},
   "outputs": [],
   "source": [
    "# function returns WSS score for k values from 1 to kmax\n",
    "def calculate_WSS(points, kmax):\n",
    "    sse = []\n",
    "    K = numpy.linspace(1, 200, num=20).astype(int).tolist()\n",
    "    for k in K:\n",
    "        kmeans = KMeans(n_clusters = k).fit(points)\n",
    "        centroids = kmeans.cluster_centers_\n",
    "        pred_clusters = kmeans.predict(points)\n",
    "        curr_sse = 0\n",
    "\n",
    "        # calculate square of Euclidean distance of each point from its cluster center and add to current WSS\n",
    "        for i in range(len(points)):\n",
    "            curr_center = centroids[pred_clusters[i]]\n",
    "            curr_sse += (points[i, 0] - curr_center[0]) ** 2 + (points[i, 1] - curr_center[1]) ** 2\n",
    "\n",
    "        sse.append(curr_sse)\n",
    "    return K, sse\n",
    "\n",
    "def test_clustering(encoder):\n",
    "    # Clustering elbow\n",
    "    X_reduced = encoder(X_tensor).detach().numpy()\n",
    "    x, sse = calculate_WSS(X_reduced, 200)\n",
    "    pyplot.plot(x, sse)\n",
    "    pyplot.title('Distance au carré entre les points et le centre de leur cluster')\n",
    "    pyplot.xlabel('Nombres de cluster')\n",
    "    pyplot.ylabel('Distance au carré')\n",
    "    pyplot.show()\n",
    "\n",
    "    # clustering eval\n",
    "    K = numpy.linspace(2, 50, num=25).astype(int)\n",
    "    rand_perfs, mut_perfs, v_perfs = [], [], []\n",
    "    for k in K:\n",
    "        rand_perf, mut_perf, v_perf = evalKmeans(X_reduced, y, k)\n",
    "        rand_perfs.append(rand_perf)\n",
    "        mut_perfs.append(mut_perf)\n",
    "        v_perfs.append(v_perf)\n",
    "\n",
    "    fig = pyplot.figure()\n",
    "    ax = fig.add_subplot(1, 1, 1)\n",
    "    ax.plot(K, rand_perfs, label='Rand')\n",
    "    ax.plot(K, mut_perfs, label='Inf. mutuelle')\n",
    "    ax.plot(K, v_perfs, label='Mesure V')\n",
    "    ax.legend()\n",
    "\n",
    "    # Ajustement du grillage\n",
    "    ticks = numpy.arange(0, 50, 1)\n",
    "    ax.set_xticks(ticks, minor=True)\n",
    "    ax.grid(which='minor', alpha=0.1)\n",
    "    ax.grid(which='major', alpha=0.5)\n",
    "    pyplot.show()"
   ]
  },
  {
   "cell_type": "code",
   "execution_count": 266,
   "metadata": {},
   "outputs": [
    {
     "name": "stderr",
     "output_type": "stream",
     "text": [
      "c:\\users\\alext\\appdata\\local\\programs\\python\\python37\\lib\\site-packages\\sklearn\\svm\\_base.py:947: ConvergenceWarning: Liblinear failed to converge, increase the number of iterations.\n",
      "  \"the number of iterations.\", ConvergenceWarning)\n"
     ]
    },
    {
     "name": "stdout",
     "output_type": "stream",
     "text": [
      "Score on all dimensions: 0.8685121107266436 \n",
      "\n",
      "Pretraining autoencoder:\n",
      " [-] epoch    0/200, train loss 0.030943 in 0.65s2%, loss: 0.0360304527\n",
      " [-] epoch   25/200, train loss 0.030924 in 0.71s2%, loss: 0.0360079594\n",
      " [-] epoch   50/200, train loss 0.030877 in 0.64s2%, loss: 0.0359545983\n",
      " [-] epoch   75/200, train loss 0.030749 in 0.63s2%, loss: 0.0358093828\n",
      " [-] epoch  100/200, train loss 0.030303 in 0.67s2%, loss: 0.0353056006\n",
      " [-] epoch  125/200, train loss 0.027749 in 0.72s2%, loss: 0.0323988236\n",
      " [-] epoch  150/200, train loss 0.023063 in 0.66s2%, loss: 0.0273610242\n",
      " [-] epoch  175/200, train loss 0.022984 in 0.78s2%, loss: 0.0272580739\n",
      " [-] epoch  199/200 | [=================== ] 94.12%, loss: 0.0272030551\r"
     ]
    },
    {
     "data": {
      "image/png": "[encoded data removed]",
      "text/plain": [
       "<Figure size 432x288 with 1 Axes>"
      ]
     },
     "metadata": {
      "needs_background": "light"
     },
     "output_type": "display_data"
    },
    {
     "name": "stdout",
     "output_type": "stream",
     "text": [
      "Full (1152, 1182)\n",
      "Reduced (1152, 50)\n",
      "Score on 50 dimensions (before clustering): 0.6920415224913494 \n",
      "\n"
     ]
    },
    {
     "name": "stderr",
     "output_type": "stream",
     "text": [
      "c:\\users\\alext\\appdata\\local\\programs\\python\\python37\\lib\\site-packages\\sklearn\\svm\\_base.py:947: ConvergenceWarning: Liblinear failed to converge, increase the number of iterations.\n",
      "  \"the number of iterations.\", ConvergenceWarning)\n"
     ]
    },
    {
     "data": {
      "image/png": "[encoded data removed]",
      "text/plain": [
       "<Figure size 432x288 with 1 Axes>"
      ]
     },
     "metadata": {
      "needs_background": "light"
     },
     "output_type": "display_data"
    },
    {
     "data": {
      "image/png": "[encoded data removed]",
      "text/plain": [
       "<Figure size 432x288 with 1 Axes>"
      ]
     },
     "metadata": {
      "needs_background": "light"
     },
     "output_type": "display_data"
    }
   ],
   "source": [
    "# Linear SVM performance with all dimensions\n",
    "clf = LinearSVC()\n",
    "clf.fit(X_train, y_train)\n",
    "score = clf.score(X_test, y_test)\n",
    "print(\"Score on all dimensions:\", score, '\\n')\n",
    "\n",
    "# Input_dimensions length\n",
    "input_d = numpy.shape(smaller_unlabeled)[1]\n",
    "k_features = 50\n",
    "nb_layers = 2\n",
    "\n",
    "encoder = Encoder(dimensions=input_d,\n",
    "                  k_features=k_features,\n",
    "                  nb_layers=nb_layers,\n",
    "                 )\n",
    "\n",
    "# pretrain on unlabeled data\n",
    "print('Pretraining autoencoder:')\n",
    "trainAutoEncoder(encoder, nb_epoch=200, verbose=True, plot_loss=True)\n",
    "\n",
    "# Reduce dimensions on inputs\n",
    "encoder.eval() \n",
    "X_train_reduced = encoder(X_train_tensor).detach().numpy()\n",
    "X_test_reduced = encoder(X_test_tensor).detach().numpy()\n",
    "print('Full', X_train.shape)\n",
    "print('Reduced', X_train_reduced.shape)\n",
    "\n",
    "# Train Linear SVM\n",
    "clf = LinearSVC()\n",
    "clf.fit(X_train_reduced, y_train)\n",
    "\n",
    "# Calculate validation performance\n",
    "score = clf.score(X_test_reduced, y_test)\n",
    "print(f\"Score on {k_features} dimensions (before clustering):\", score, '\\n')\n",
    "\n",
    "# TEST CLUSTERING\n",
    "test_clustering(encoder)"
   ]
  },
  {
   "cell_type": "code",
   "execution_count": null,
   "metadata": {},
   "outputs": [],
   "source": [
    "\n",
    "print('Optimising autoencoder for clustering:')\n",
    "# encoder = Encoder(dimensions=input_d,\n",
    "#                   k_features=k_features,\n",
    "#                   nb_layers=nb_layers,\n",
    "#                  )\n",
    "trainAutoEncoder(encoder, nb_epoch=25, verbose=True, plot_loss=True, \n",
    "                 cluster=True,\n",
    "                 k_clusters=25,\n",
    "                 error_ratio = 0.1\n",
    "                )\n",
    "\n",
    "# Reduce dimensions on inputs\n",
    "encoder.eval() \n",
    "X_train_reduced = encoder(X_train_tensor).detach().numpy()\n",
    "X_test_reduced = encoder(X_test_tensor).detach().numpy()\n",
    "\n",
    "# Train Linear SVM\n",
    "clf = LinearSVC()\n",
    "clf.fit(X_train_reduced, y_train)\n",
    "\n",
    "# Calculate validation performance\n",
    "score = clf.score(X_test_reduced, y_test)\n",
    "print(f\"Score on {k_features} dimensions (after clustering):\", score)\n",
    "\n",
    "# TEST CLUSTERING\n",
    "test_clustering(encoder)"
   ]
  },
  {
   "cell_type": "code",
   "execution_count": 224,
   "metadata": {},
   "outputs": [
    {
     "data": {
      "image/png": "[encoded data removed]",
      "text/plain": [
       "<Figure size 432x288 with 1 Axes>"
      ]
     },
     "metadata": {
      "needs_background": "light"
     },
     "output_type": "display_data"
    },
    {
     "data": {
      "image/png": "[encoded data removed]",
      "text/plain": [
       "<Figure size 432x288 with 1 Axes>"
      ]
     },
     "metadata": {
      "needs_background": "light"
     },
     "output_type": "display_data"
    }
   ],
   "source": [
    "sse = calculate_WSS(X, 200)\n",
    "pyplot.plot(sse)\n",
    "pyplot.title('Distance au carré entre les points et le centre de leur cluster')\n",
    "pyplot.xlabel('Nombres de cluster')\n",
    "pyplot.ylabel('Distance au carré')\n",
    "pyplot.show()\n",
    "\n",
    "# clustering eval\n",
    "K = numpy.linspace(2, 50, num=25).astype(int)\n",
    "rand_perfs, mut_perfs, v_perfs = [], [], []\n",
    "for k in K:\n",
    "    rand_perf, mut_perf, v_perf = evalKmeans(X, y, k)\n",
    "    rand_perfs.append(rand_perf)\n",
    "    mut_perfs.append(mut_perf)\n",
    "    v_perfs.append(v_perf)\n",
    "\n",
    "fig = pyplot.figure()\n",
    "ax = fig.add_subplot(1, 1, 1)\n",
    "ax.plot(K, rand_perfs, label='Rand')\n",
    "ax.plot(K, mut_perfs, label='Inf. mutuelle')\n",
    "ax.plot(K, v_perfs, label='Mesure V')\n",
    "ax.legend()\n",
    "\n",
    "# Ajustement du grillage\n",
    "ticks = numpy.arange(0, 50, 1)\n",
    "ax.set_xticks(ticks, minor=True)\n",
    "ax.grid(which='minor', alpha=0.1)\n",
    "ax.grid(which='major', alpha=0.5)\n",
    "pyplot.show()"
   ]
  },
  {
   "cell_type": "code",
   "execution_count": 172,
   "metadata": {},
   "outputs": [
    {
     "name": "stdout",
     "output_type": "stream",
     "text": [
      "(1441, 20)\n",
      "(1441, 21)\n",
      "(1441, 51)\n"
     ]
    }
   ],
   "source": [
    "# # Compress labeled dataset\n",
    "X_reduced = encoder(X_tensor).detach().numpy()\n",
    "print(X_reduced.shape)\n",
    "data_reduced = numpy.append(X_reduced, y_labeled.reshape((len(y_labeled), 1)), axis=1)\n",
    "print(data_reduced.shape)\n",
    "# # Save \n",
    "numpy.save(f'labeled_reduit_{k_features}dim.npy', data_reduced)\n",
    "labeled = numpy.load('labeled_reduit_50dim.npy')\n",
    "print(labeled.shape)"
   ]
  },
  {
   "cell_type": "code",
   "execution_count": null,
   "metadata": {},
   "outputs": [],
   "source": [
    "# GRAPH DE LA REDUCTION DE DIMENSIONS AVEC LAYERS\n",
    "start_time = time.time()\n",
    "\n",
    "# Input_dimensions length\n",
    "input_d = numpy.shape(smaller_unlabeled)[1]\n",
    "\n",
    "K = [600, 400, 250, 100, 50]\n",
    "L = [1, 2, 3, 4, 5]\n",
    "\n",
    "step = 1/(len(K)*len(L))\n",
    "\n",
    "for i, l in enumerate(L):\n",
    "    scores = []\n",
    "    for j, k in enumerate(K):\n",
    "        encoder = Encoder(dimensions=input_d, \n",
    "                          k_features=k,\n",
    "                          nb_layers=l)\n",
    "\n",
    "        # train on unlabeled data\n",
    "        trainAutoEncoder(encoder, nb_epoch=200, verbose=False)\n",
    "\n",
    "        \n",
    "        # Reduce dimensions on inputs\n",
    "        encoder.eval() \n",
    "        X_train_reduced = encoder(X_train_tensor).detach().numpy()\n",
    "        X_test_reduced = encoder(X_test_tensor).detach().numpy()\n",
    "        \n",
    "        # Train Linear SVM\n",
    "        clf = LinearSVC()\n",
    "        clf.fit(X_train_reduced, y_train)\n",
    "        \n",
    "        # Calculate validation performance\n",
    "        score = clf.score(X_test_reduced, y_test)\n",
    "        scores.append(score)\n",
    "        \n",
    "        # Display progress\n",
    "        progress = 100*((step*(i)*len(K))+(step*(j+1)))\n",
    "        print(f'[ {progress:.0f}% ] {l} layers, {k} features, score: {(100*score):.2f}% | {(time.time()-start_time):.1f}s \\t')\n",
    "    \n",
    "    pyplot.plot(K, scores, label=f'{l}')\n",
    "    \n",
    "pyplot.ylabel('Score Test')\n",
    "pyplot.ylim(0, 1)\n",
    "pyplot.xlabel(f'Nombre de dimensions après réduction ({input_d} original)')\n",
    "pyplot.legend(title=\"Nb de couches\")\n",
    "pyplot.show()"
   ]
  },
  {
   "cell_type": "code",
   "execution_count": 18,
   "metadata": {},
   "outputs": [
    {
     "name": "stdout",
     "output_type": "stream",
     "text": [
      "[ 40% ] 2 layers, 50 features, score: 74.06% | 62.1s \t\t\r"
     ]
    },
    {
     "name": "stderr",
     "output_type": "stream",
     "text": [
      "c:\\users\\alext\\appdata\\local\\programs\\python\\python37\\lib\\site-packages\\sklearn\\svm\\_base.py:947: ConvergenceWarning: Liblinear failed to converge, increase the number of iterations.\n",
      "  \"the number of iterations.\", ConvergenceWarning)\n"
     ]
    },
    {
     "name": "stdout",
     "output_type": "stream",
     "text": [
      "[ 60% ] 3 layers, 50 features, score: 72.12% | 125.4s \t\t\r"
     ]
    },
    {
     "name": "stderr",
     "output_type": "stream",
     "text": [
      "c:\\users\\alext\\appdata\\local\\programs\\python\\python37\\lib\\site-packages\\sklearn\\svm\\_base.py:947: ConvergenceWarning: Liblinear failed to converge, increase the number of iterations.\n",
      "  \"the number of iterations.\", ConvergenceWarning)\n"
     ]
    },
    {
     "name": "stdout",
     "output_type": "stream",
     "text": [
      "[ 64% ] 4 layers, 600 features, score: 84.05% | 152.8s \t\r"
     ]
    },
    {
     "name": "stderr",
     "output_type": "stream",
     "text": [
      "c:\\users\\alext\\appdata\\local\\programs\\python\\python37\\lib\\site-packages\\sklearn\\svm\\_base.py:947: ConvergenceWarning: Liblinear failed to converge, increase the number of iterations.\n",
      "  \"the number of iterations.\", ConvergenceWarning)\n"
     ]
    },
    {
     "name": "stdout",
     "output_type": "stream",
     "text": [
      "[ 68% ] 4 layers, 400 features, score: 82.66% | 174.0s \t\r"
     ]
    },
    {
     "name": "stderr",
     "output_type": "stream",
     "text": [
      "c:\\users\\alext\\appdata\\local\\programs\\python\\python37\\lib\\site-packages\\sklearn\\svm\\_base.py:947: ConvergenceWarning: Liblinear failed to converge, increase the number of iterations.\n",
      "  \"the number of iterations.\", ConvergenceWarning)\n"
     ]
    },
    {
     "name": "stdout",
     "output_type": "stream",
     "text": [
      "[ 80% ] 4 layers, 50 features, score: 75.03% | 210.0s \t\t\r"
     ]
    },
    {
     "name": "stderr",
     "output_type": "stream",
     "text": [
      "c:\\users\\alext\\appdata\\local\\programs\\python\\python37\\lib\\site-packages\\sklearn\\svm\\_base.py:947: ConvergenceWarning: Liblinear failed to converge, increase the number of iterations.\n",
      "  \"the number of iterations.\", ConvergenceWarning)\n"
     ]
    },
    {
     "name": "stdout",
     "output_type": "stream",
     "text": [
      "[ 84% ] 5 layers, 600 features, score: 83.50% | 245.1s \t\r"
     ]
    },
    {
     "name": "stderr",
     "output_type": "stream",
     "text": [
      "c:\\users\\alext\\appdata\\local\\programs\\python\\python37\\lib\\site-packages\\sklearn\\svm\\_base.py:947: ConvergenceWarning: Liblinear failed to converge, increase the number of iterations.\n",
      "  \"the number of iterations.\", ConvergenceWarning)\n"
     ]
    },
    {
     "name": "stdout",
     "output_type": "stream",
     "text": [
      "[ 88% ] 5 layers, 400 features, score: 82.11% | 271.3s \t\r"
     ]
    },
    {
     "name": "stderr",
     "output_type": "stream",
     "text": [
      "c:\\users\\alext\\appdata\\local\\programs\\python\\python37\\lib\\site-packages\\sklearn\\svm\\_base.py:947: ConvergenceWarning: Liblinear failed to converge, increase the number of iterations.\n",
      "  \"the number of iterations.\", ConvergenceWarning)\n"
     ]
    },
    {
     "name": "stdout",
     "output_type": "stream",
     "text": [
      "[ 92% ] 5 layers, 250 features, score: 81.00% | 291.5s \t\r"
     ]
    },
    {
     "name": "stderr",
     "output_type": "stream",
     "text": [
      "c:\\users\\alext\\appdata\\local\\programs\\python\\python37\\lib\\site-packages\\sklearn\\svm\\_base.py:947: ConvergenceWarning: Liblinear failed to converge, increase the number of iterations.\n",
      "  \"the number of iterations.\", ConvergenceWarning)\n"
     ]
    },
    {
     "name": "stdout",
     "output_type": "stream",
     "text": [
      "[ 100% ] 5 layers, 50 features, score: 73.23% | 316.9s \t\r"
     ]
    },
    {
     "data": {
      "image/png": "[encoded data removed]",
      "text/plain": [
       "<Figure size 432x288 with 1 Axes>"
      ]
     },
     "metadata": {
      "needs_background": "light"
     },
     "output_type": "display_data"
    }
   ],
   "source": [
    "# ELU ACTIVATION and He init\n",
    "# Test effect of number of k reduced dimensions\n",
    "# and network depth\n",
    "start_time = time.time()\n",
    "\n",
    "# Input_dimensions length\n",
    "input_d = numpy.shape(smaller_unlabeled)[1]\n",
    "\n",
    "K = [600, 400, 250, 100, 50]\n",
    "L = [1, 2, 3, 4, 5]\n",
    "\n",
    "step = 1/(len(K)*len(L))\n",
    "\n",
    "for i, l in enumerate(L):\n",
    "    scores = []\n",
    "    for j, k in enumerate(K):\n",
    "        encoder = Encoder(dimensions=input_d, \n",
    "                            k_features=k, \n",
    "                            nb_layers=l,\n",
    "                            activation=nn.ELU(),\n",
    "                            init=nn.init.kaiming_normal_\n",
    "                           )\n",
    "\n",
    "        # train on unlabeled data\n",
    "        trainAutoEncoder(encoder, verbose=False)\n",
    "        \n",
    "        # Reduce dimensions on inputs\n",
    "        encoder.eval()\n",
    "        X_train_reduced = encoder(X_train_tensor).detach().numpy()\n",
    "        X_test_reduced = encoder(X_test_tensor).detach().numpy()\n",
    "        \n",
    "        # Train Linear SVM\n",
    "        clf = LinearSVC()\n",
    "        clf.fit(X_train_reduced, y_train)\n",
    "        \n",
    "        # Calculate validation performance\n",
    "        score = clf.score(X_test_reduced, y_test)\n",
    "        scores.append(score)\n",
    "        \n",
    "        # Display progress\n",
    "        progress = 100*((step*(i)*len(K))+(step*(j+1)))\n",
    "        print(f'[ {progress:.0f}% ] {l} layers, {k} features, score: {(100*score):.2f}% | {(time.time()-start_time):.1f}s \\t', end='\\r')\n",
    "    \n",
    "    pyplot.plot(K, scores, label=f'{l}')\n",
    "    \n",
    "pyplot.title(f'Performance de l\\'architecture d\\'autoencodeurs pour \\n la réduction de dimentionnalité')\n",
    "pyplot.ylabel('Score Test')\n",
    "pyplot.ylim(0, 1)\n",
    "pyplot.xlabel(f'Nombre de dimensions après réduction ({input_d} original)')\n",
    "pyplot.legend(title=\"Nb de couches\")\n",
    "pyplot.show()"
   ]
  }
 ],
 "metadata": {
  "kernelspec": {
   "display_name": "Python 3",
   "language": "python",
   "name": "python3"
  },
  "language_info": {
   "codemirror_mode": {
    "name": "ipython",
    "version": 3
   },
   "file_extension": ".py",
   "mimetype": "text/x-python",
   "name": "python",
   "nbconvert_exporter": "python",
   "pygments_lexer": "ipython3",
   "version": "3.7.3"
  }
 },
 "nbformat": 4,
 "nbformat_minor": 2
}

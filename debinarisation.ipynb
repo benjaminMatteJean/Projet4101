{
 "cells": [
  {
   "cell_type": "markdown",
   "metadata": {},
   "source": [
    "Affichage de donnees\n",
    "\n",
    "TSNE (squasher les donnees en 2 dimensions) avec les donnees non binaires\n",
    "Analyse correlation( 2 variables ex: type de medecin et etablissement) Montrer les correlations Attribution des poids\n",
    "\n",
    "Listes des techniques a essayer pour le pre-traitement(reductions de dimensionnalite):\n",
    "- Debinariser les donnees et le transformer en dataset de pytorch\n",
    "\n",
    "Listes des techniques a essayer pour le deep learning:\n",
    "- Deep Clustering Network (DCN)\n",
    "- Deep Embedding Network (DEN)\n",
    "- Deep Subspace Clustering Networks (DSC-Nets)\n",
    "- Deep Nonparametric Clustering (DNC) (Non-supervise)\n",
    "- Deep Nonparametric Clustering (DNC) (Non-supervise)\n",
    "\n",
    "Listes des techniques a essayer pour le clustering:\n",
    "- K-Means\n",
    "- Expection maximum\n",
    "- DB scan\n",
    "- Mean shift clustering\n",
    "- Agglomerative Hierarchical Clustering"
   ]
  },
  {
   "cell_type": "code",
   "execution_count": 5,
   "metadata": {},
   "outputs": [],
   "source": [
    "import numpy"
   ]
  },
  {
   "cell_type": "code",
   "execution_count": 1,
   "metadata": {},
   "outputs": [
    {
     "ename": "FileNotFoundError",
     "evalue": "[Errno 2] No such file or directory: 'trainDatasetPerdiem-20191028.pkl'",
     "output_type": "error",
     "traceback": [
      "\u001b[0;31m---------------------------------------------------------------------------\u001b[0m",
      "\u001b[0;31mFileNotFoundError\u001b[0m                         Traceback (most recent call last)",
      "\u001b[0;32m<ipython-input-1-36d2fecbb792>\u001b[0m in \u001b[0;36m<module>\u001b[0;34m\u001b[0m\n\u001b[1;32m      1\u001b[0m \u001b[0;32mimport\u001b[0m \u001b[0mpickle\u001b[0m\u001b[0;34m\u001b[0m\u001b[0;34m\u001b[0m\u001b[0m\n\u001b[1;32m      2\u001b[0m \u001b[0;34m\u001b[0m\u001b[0m\n\u001b[0;32m----> 3\u001b[0;31m \u001b[0minfile\u001b[0m \u001b[0;34m=\u001b[0m \u001b[0mopen\u001b[0m\u001b[0;34m(\u001b[0m\u001b[0;34m'trainDatasetPerdiem-20191028.pkl'\u001b[0m\u001b[0;34m,\u001b[0m \u001b[0;34m'rb'\u001b[0m\u001b[0;34m)\u001b[0m\u001b[0;34m\u001b[0m\u001b[0;34m\u001b[0m\u001b[0m\n\u001b[0m\u001b[1;32m      4\u001b[0m \u001b[0mdata\u001b[0m\u001b[0;34m,\u001b[0m \u001b[0mlabels\u001b[0m \u001b[0;34m=\u001b[0m \u001b[0mpickle\u001b[0m\u001b[0;34m.\u001b[0m\u001b[0mload\u001b[0m\u001b[0;34m(\u001b[0m\u001b[0minfile\u001b[0m\u001b[0;34m)\u001b[0m\u001b[0;34m\u001b[0m\u001b[0;34m\u001b[0m\u001b[0m\n\u001b[1;32m      5\u001b[0m \u001b[0mprint\u001b[0m\u001b[0;34m(\u001b[0m\u001b[0mlabels\u001b[0m\u001b[0;34m)\u001b[0m\u001b[0;34m\u001b[0m\u001b[0;34m\u001b[0m\u001b[0m\n",
      "\u001b[0;31mFileNotFoundError\u001b[0m: [Errno 2] No such file or directory: 'trainDatasetPerdiem-20191028.pkl'"
     ]
    }
   ],
   "source": [
    "import pickle\n",
    "\n",
    "infile = open('trainDatasetPerdiem-20191028.pkl', 'rb')\n",
    "data, labels = pickle.load(infile)\n",
    "print(labels)\n",
    "infile.close()"
   ]
  },
  {
   "cell_type": "code",
   "execution_count": 95,
   "metadata": {},
   "outputs": [
    {
     "name": "stdout",
     "output_type": "stream",
     "text": [
      "[[0 0 0 0 0 1 0 0 0 0 0 0 0 0 0 0 0 0 0 0 0 0 0 0 0 0 0 0 0 0 0 0]\n",
      " [0 0 1 0 0 0 0 0 0 0 0 0 0 0 0 0 0 0 0 0 0 0 0 0 0 0 0 0 0 0 0 0]\n",
      " [0 0 0 0 0 0 0 0 0 0 0 0 0 0 0 0 0 0 0 1 0 0 0 0 0 0 0 0 0 0 0 0]\n",
      " [0 0 0 0 0 0 0 0 0 0 0 0 0 0 0 0 0 0 0 1 0 0 0 0 0 0 0 0 0 0 0 0]\n",
      " [0 0 0 0 0 0 0 0 0 0 0 0 1 0 0 0 0 0 0 0 0 0 0 0 0 0 0 0 0 0 0 0]]\n",
      "[5, 2, 19, 19, 12]\n"
     ]
    }
   ],
   "source": [
    "# prints Data type for reference\n",
    "# print(type(data))\n",
    "\n",
    "numberOfRows = 5\n",
    "beginningOfColumns = 0\n",
    "endOfColumns = 32\n",
    "\n",
    "# isolate the first 5 rows and first 32 columns\n",
    "isolatedDataByRows = data.head(numberOfRows)\n",
    "piece = isolatedDataByRows.iloc[:, beginningOfColumns : endOfColumns]\n",
    "\n",
    "np_array = numpy.asarray(piece.to_numpy())\n",
    "print(np_array)\n",
    "\n",
    "debinarized = [0 for c in range(numberOfRows)]\n",
    "\n",
    "for i, value in enumerate(np_array):\n",
    "    for index, binaryValue in enumerate(value):\n",
    "        debinarized[i] += index * binaryValue\n",
    "        \n",
    "print(debinarized)\n",
    "\n"
   ]
  },
  {
   "cell_type": "code",
   "execution_count": null,
   "metadata": {},
   "outputs": [],
   "source": []
  }
 ],
 "metadata": {
  "kernelspec": {
   "display_name": "Python 3",
   "language": "python",
   "name": "python3"
  },
  "language_info": {
   "codemirror_mode": {
    "name": "ipython",
    "version": 3
   },
   "file_extension": ".py",
   "mimetype": "text/x-python",
   "name": "python",
   "nbconvert_exporter": "python",
   "pygments_lexer": "ipython3",
   "version": "3.7.3"
  }
 },
 "nbformat": 4,
 "nbformat_minor": 2
}
